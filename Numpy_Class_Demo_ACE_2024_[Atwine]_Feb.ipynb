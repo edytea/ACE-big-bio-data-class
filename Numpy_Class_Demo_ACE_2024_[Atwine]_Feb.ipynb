{
  "nbformat": 4,
  "nbformat_minor": 0,
  "metadata": {
    "colab": {
      "provenance": []
    },
    "kernelspec": {
      "name": "python3",
      "display_name": "Python 3"
    },
    "language_info": {
      "name": "python"
    }
  },
  "cells": [
    {
      "cell_type": "markdown",
      "source": [
        "# Numpy Live Demo Class\n",
        "\n",
        "- Objective: to demo the functionality of Numpy and its applications"
      ],
      "metadata": {
        "id": "o48Me2xFMuiw"
      }
    },
    {
      "cell_type": "markdown",
      "source": [
        "# No Free Lunch Theory\n",
        "- There is no one way to do everything or to approach a problem. You have to investigate, reason out and apply methods to find what specifically fits your usecase.\n",
        "- I can give two people an assignement A: and you two people will come up with different approaches and all of them are correct."
      ],
      "metadata": {
        "id": "Mp0jJ4vxn0uG"
      }
    },
    {
      "cell_type": "code",
      "source": [
        "!pip --version\n",
        "#check the pip version you are working with."
      ],
      "metadata": {
        "colab": {
          "base_uri": "https://localhost:8080/"
        },
        "id": "jj3YAInCgZyN",
        "outputId": "30ac6b48-acee-4dd6-d1e7-dc2aa60d2a13"
      },
      "execution_count": null,
      "outputs": [
        {
          "output_type": "stream",
          "name": "stdout",
          "text": [
            "pip 23.1.2 from /usr/local/lib/python3.10/dist-packages/pip (python 3.10)\n"
          ]
        }
      ]
    },
    {
      "cell_type": "code",
      "source": [
        "#what is installed in this env\n",
        "# find out about : dependency issues (pandas v4 depends on numpy v1.2)\n",
        "!pip list"
      ],
      "metadata": {
        "id": "ly8pe6QCgurO"
      },
      "execution_count": null,
      "outputs": []
    },
    {
      "cell_type": "code",
      "source": [
        "#installing and importing\n",
        "#most python libraries pip\n",
        "!pip install numpy\n",
        "# !pip matplotlib\n",
        "# !pip install biopython"
      ],
      "metadata": {
        "colab": {
          "base_uri": "https://localhost:8080/"
        },
        "id": "Lcm0N6mMedTm",
        "outputId": "500cc13b-6685-423b-ce95-606951604221"
      },
      "execution_count": null,
      "outputs": [
        {
          "output_type": "stream",
          "name": "stdout",
          "text": [
            "Requirement already satisfied: numpy in /usr/local/lib/python3.10/dist-packages (1.25.2)\n"
          ]
        }
      ]
    },
    {
      "cell_type": "code",
      "source": [
        "#to import the numpy module\n",
        "import numpy as np"
      ],
      "metadata": {
        "id": "SMjr9VUSM2nK"
      },
      "execution_count": null,
      "outputs": []
    },
    {
      "cell_type": "code",
      "source": [
        "dir(np) #functions within numpy"
      ],
      "metadata": {
        "id": "x906oaGeiFU4"
      },
      "execution_count": null,
      "outputs": []
    },
    {
      "cell_type": "markdown",
      "source": [
        "## Creating an Array"
      ],
      "metadata": {
        "id": "qUjxfvgviakD"
      }
    },
    {
      "cell_type": "code",
      "source": [
        "#creating arrays with numpy\n",
        "#an array is a data structure: a data structure is a logical object that keeps data with in memory of a computer\n",
        "#syntax: the correct way to write python (or any language)\n",
        "\n",
        "# Create a 1D array\n",
        "arr_1d = np.array([1, 2, 3, 4, 5])\n",
        "print(\"1D array:\", arr_1d)\n",
        "\n",
        "# Create a 2D array\n",
        "arr_2d = np.array([[1, 2, 3], [4, 5, 6]])\n",
        "print(\"2D array:\", arr_2d)"
      ],
      "metadata": {
        "colab": {
          "base_uri": "https://localhost:8080/"
        },
        "id": "QfIFXaUgNBXG",
        "outputId": "0fec1ef0-edfe-4c41-d893-e5d98e14f9eb"
      },
      "execution_count": null,
      "outputs": [
        {
          "output_type": "stream",
          "name": "stdout",
          "text": [
            "1D array: [1 2 3 4 5]\n",
            "2D array: [[1 2 3]\n",
            " [4 5 6]]\n"
          ]
        }
      ]
    },
    {
      "cell_type": "code",
      "source": [
        "#checking the shape of the arrays\n",
        "arr_2d.shape #we can see that this is a 2 by 3 array meaning it has 2 rows and 3 columns"
      ],
      "metadata": {
        "colab": {
          "base_uri": "https://localhost:8080/"
        },
        "id": "Qo0Bj25ZNSe8",
        "outputId": "1bae830c-7ca7-4923-e21d-45f911f1b1d8"
      },
      "execution_count": null,
      "outputs": [
        {
          "output_type": "execute_result",
          "data": {
            "text/plain": [
              "(2, 3)"
            ]
          },
          "metadata": {},
          "execution_count": 7
        }
      ]
    },
    {
      "cell_type": "code",
      "source": [
        "# Importing the required modules\n",
        "import matplotlib.pyplot as plt\n",
        "\n",
        "# Creating a new figure\n",
        "plt.figure(dpi=100)\n",
        "\n",
        "# Creating an array from the list\n",
        "x= np.array([1,2,-3,4,5])\n",
        "y= np.array([6,8,6,1,-2])\n",
        "\n",
        "# Plotting Numpy array\n",
        "plt.plot(x,y,linestyle='--')\n",
        "\n",
        "# Adding details to the plot\n",
        "plt.title('Line Plot of a NumPy Array')\n",
        "plt.xlabel('x-axis')\n",
        "plt.ylabel('y-axis')\n",
        "\n",
        "# Displaying the plot\n",
        "plt.show()\n"
      ],
      "metadata": {
        "colab": {
          "base_uri": "https://localhost:8080/",
          "height": 472
        },
        "id": "E6GjmtV6OUEr",
        "outputId": "0c15c1fa-75ff-4cf5-c4ac-f0e791ac2225"
      },
      "execution_count": null,
      "outputs": [
        {
          "output_type": "display_data",
          "data": {
            "text/plain": [
              "<Figure size 640x480 with 1 Axes>"
            ],
            "image/png": "[encoded data removed]"
          },
          "metadata": {}
        }
      ]
    },
    {
      "cell_type": "code",
      "source": [
        "# Importing the required modules\n",
        "import matplotlib.pyplot as plt\n",
        "import numpy as np\n",
        "\n",
        "# Creating a new figure\n",
        "plt.figure(dpi=100)\n",
        "\n",
        "# Creating array from list\n",
        "x= np.random.randint(1,100,20)\n",
        "y= np.random.randint(1,100,20)\n",
        "\n",
        "# Numpy array as scatter plot\n",
        "plt.scatter(x,y)\n",
        "\n",
        "# Adding details to the plot\n",
        "plt.title('Scatter Plot of a NumPy Array')\n",
        "plt.xlabel('x-axis')\n",
        "plt.ylabel('y-axis')\n",
        "\n",
        "# Displaying the plot\n",
        "plt.grid()\n",
        "plt.show()\n"
      ],
      "metadata": {
        "colab": {
          "base_uri": "https://localhost:8080/",
          "height": 472
        },
        "id": "GLAMEyapSy1w",
        "outputId": "8737ce43-77d4-4d8c-8239-531b2762e791"
      },
      "execution_count": null,
      "outputs": [
        {
          "output_type": "display_data",
          "data": {
            "text/plain": [
              "<Figure size 640x480 with 1 Axes>"
            ],
            "image/png": "[encoded data removed]"
          },
          "metadata": {}
        }
      ]
    },
    {
      "cell_type": "markdown",
      "source": [
        "## Basic operations\n",
        "- This is applicable if you want to add, find sums, multiply the contents of your arrays.\n",
        "- Most times your data will be turned into ints, floats so that mathematical operations can be done on them."
      ],
      "metadata": {
        "id": "v-Apu2W4NvyJ"
      }
    },
    {
      "cell_type": "code",
      "source": [
        "# Basic operations\n",
        "a = np.array([1, 2, 3])\n",
        "b = np.array([4, 5, 6])\n",
        "\n",
        "# Addition\n",
        "print(\"Addition:\", a + b)\n",
        "\n",
        "# Subtraction\n",
        "print(\"Subtraction:\", a - b)\n",
        "\n",
        "# Element-wise multiplication\n",
        "print(\"Multiplication:\", a * b)\n"
      ],
      "metadata": {
        "colab": {
          "base_uri": "https://localhost:8080/"
        },
        "id": "gql51OkDNZh-",
        "outputId": "0fe3775e-dd96-41f4-afe7-6036466163bd"
      },
      "execution_count": null,
      "outputs": [
        {
          "output_type": "stream",
          "name": "stdout",
          "text": [
            "Addition: [5 7 9]\n",
            "Subtraction: [-3 -3 -3]\n",
            "Multiplication: [ 4 10 18]\n"
          ]
        }
      ]
    },
    {
      "cell_type": "markdown",
      "source": [
        "## Indexing:\n",
        "- Now that you have the data in some form of data structures, how can you pick specific data in a particular location?"
      ],
      "metadata": {
        "id": "Rz-5y-T6OJ8-"
      }
    },
    {
      "cell_type": "code",
      "source": [
        "# Indexing\n",
        "# Note: in python indexing begins at 0\n",
        "print(\"First element of a:\", a[1])\n",
        "\n",
        "# Slicing\n",
        "print(\"First two elements of b:\", b[2:]) #slice beginning from 0 to the 2\n"
      ],
      "metadata": {
        "colab": {
          "base_uri": "https://localhost:8080/"
        },
        "id": "jqWI0KrZOEJD",
        "outputId": "301f06b4-f425-4323-c3c1-a52ca579c11f"
      },
      "execution_count": null,
      "outputs": [
        {
          "output_type": "stream",
          "name": "stdout",
          "text": [
            "First element of a: 2\n",
            "First two elements of b: [6]\n"
          ]
        }
      ]
    },
    {
      "cell_type": "code",
      "source": [
        "# a 2D example of numpy indexing\n",
        "\n",
        "import numpy as np\n",
        "# 2D example\n",
        "arr_2d = np.array([ [1, 2, 3],\n",
        "                    [4, 5, 6],\n",
        "                    [7, 8, 9]])\n",
        "\n",
        "# Accessing the first row\n",
        "print(\"First row:\", arr_2d[0])\n",
        "\n",
        "# Accessing the second column\n",
        "print(\"Second column:\", arr_2d[:, 1])\n"
      ],
      "metadata": {
        "colab": {
          "base_uri": "https://localhost:8080/"
        },
        "id": "5Kki7X7vOhge",
        "outputId": "27f24f99-4406-4689-8f00-7a3e29c39375"
      },
      "execution_count": null,
      "outputs": [
        {
          "output_type": "stream",
          "name": "stdout",
          "text": [
            "First row: [1 2 3]\n",
            "Second column: [2 5 8]\n"
          ]
        }
      ]
    },
    {
      "cell_type": "markdown",
      "source": [
        "## Reshaping Arrays\n",
        "- Sometimes the data you have needs to look a different way so you reshape your arrays to the way you want them to.\n",
        "\n",
        "# prompt: why is reshaping of arrays important?\n",
        "\n",
        "Reshaping arrays is important for several reasons:\n",
        "\n",
        "* **Data Organization:** Reshaping allows you to organize your data into a specific structure that is suitable for your application. For example, you might reshape a 1D array into a 2D array to represent a matrix or a table.\n",
        "* **Compatibility with Functions and Libraries:** Many functions and libraries in NumPy and other libraries expect data to be in a specific shape. Reshaping your arrays ensures that they are compatible with these functions and libraries.\n",
        "* **Memory Efficiency:** Reshaping can be used to store data more efficiently in memory. For example, if you have a 1D array of 100 elements, you can reshape it into a 2D array of 10 rows and 10 columns, which will use less memory than storing the data as a 1D array.\n",
        "* **Visualization:** Reshaping can be useful for visualizing data. For example, you might reshape a 1D array of pixel values into a 2D array to represent an image.\n",
        "\n",
        "Here is an example to illustrate the importance of reshaping:\n"
      ],
      "metadata": {
        "id": "sHvvu1CoTQR7"
      }
    },
    {
      "cell_type": "code",
      "source": [
        "# Reshape a 1D array to a 2D array\n",
        "arr = np.arange(6)  # Creates an array [0, 1, 2, 3, 4, 5]\n",
        "reshaped_arr = arr.reshape((2, 3))\n",
        "print(\"Reshaped array:\", reshaped_arr)\n"
      ],
      "metadata": {
        "colab": {
          "base_uri": "https://localhost:8080/"
        },
        "id": "d3wAHPdxOxoA",
        "outputId": "fd916934-50a1-40ad-f545-e0c24469b436"
      },
      "execution_count": null,
      "outputs": [
        {
          "output_type": "stream",
          "name": "stdout",
          "text": [
            "Reshaped array: [[0 1 2]\n",
            " [3 4 5]]\n"
          ]
        }
      ]
    },
    {
      "cell_type": "markdown",
      "source": [
        "## Aggregations and Statistical Operations"
      ],
      "metadata": {
        "id": "d9d4TZndT5Up"
      }
    },
    {
      "cell_type": "code",
      "source": [
        "# Sum, mean, and standard deviation\n",
        "print(\"Sum of arr:\", arr.sum())\n",
        "print(\"Mean of arr:\", arr.mean())\n",
        "print(\"Standard deviation of arr:\", arr.std())\n"
      ],
      "metadata": {
        "colab": {
          "base_uri": "https://localhost:8080/"
        },
        "id": "OMRvgixUTd3m",
        "outputId": "0c81ef92-66ed-480d-d30c-4a2fa4d19836"
      },
      "execution_count": null,
      "outputs": [
        {
          "output_type": "stream",
          "name": "stdout",
          "text": [
            "Sum of arr: 15\n",
            "Mean of arr: 2.5\n",
            "Standard deviation of arr: 1.707825127659933\n"
          ]
        }
      ]
    },
    {
      "cell_type": "markdown",
      "source": [
        "## Boolean Indexing.\n",
        "\n",
        "\n",
        "Boolean indexing in NumPy allows you to select specific elements from an array based on a condition. This is done by creating a boolean mask, where each element of the mask corresponds to an element in the array. The elements of the mask that are True indicate the elements of the array that should be selected.\n",
        "\n",
        "Here is an example to illustrate boolean indexing:"
      ],
      "metadata": {
        "id": "cJyKsE4bUD07"
      }
    },
    {
      "cell_type": "code",
      "source": [
        "# Find elements greater than 2\n",
        "# arr = array [0, 1, 2, 3, 4, 5]\n",
        "print(\"Elements greater than 2:\", arr[arr > 2])\n"
      ],
      "metadata": {
        "colab": {
          "base_uri": "https://localhost:8080/"
        },
        "id": "6LDE_UlfUApD",
        "outputId": "d26bb635-5a4b-4de8-f0ea-84ce3902663c"
      },
      "execution_count": null,
      "outputs": [
        {
          "output_type": "stream",
          "name": "stdout",
          "text": [
            "Elements greater than 2: [3 4 5]\n"
          ]
        }
      ]
    },
    {
      "cell_type": "code",
      "source": [
        "# Create a 2D array\n",
        "arr = np.array([[1, 2, 3], [4, 5, 6], [7, 8, 9]])\n",
        "\n",
        "# Select all elements greater than 5\n",
        "print(\"Elements greater than 5:\", arr[arr > 5])\n"
      ],
      "metadata": {
        "colab": {
          "base_uri": "https://localhost:8080/"
        },
        "id": "3_dDXTkJUGa6",
        "outputId": "13a57b9b-e143-45f9-cc1d-f015ad85ca18"
      },
      "execution_count": null,
      "outputs": [
        {
          "output_type": "stream",
          "name": "stdout",
          "text": [
            "Elements greater than 5: [6 7 8 9]\n"
          ]
        }
      ]
    },
    {
      "cell_type": "markdown",
      "source": [
        "## Algebra Operations"
      ],
      "metadata": {
        "id": "4PIyLJz_Ukl9"
      }
    },
    {
      "cell_type": "code",
      "source": [
        "# Dot product\n",
        "x = np.array([[1, 2], [3, 4]])\n",
        "y = np.array([[5, 6], [7, 8]])\n",
        "print(\"Dot product:\", np.dot(x, y))\n"
      ],
      "metadata": {
        "colab": {
          "base_uri": "https://localhost:8080/"
        },
        "id": "130eqytPUm7G",
        "outputId": "add02abd-6d5d-4ffd-e8db-1763b90b67ef"
      },
      "execution_count": null,
      "outputs": [
        {
          "output_type": "stream",
          "name": "stdout",
          "text": [
            "Dot product: [[19 22]\n",
            " [43 50]]\n"
          ]
        }
      ]
    },
    {
      "cell_type": "code",
      "source": [
        "# We can calculate eigen vectors\n",
        "matrix = np.array([[4, -2], [1, 1]])\n",
        "eigenvalues, eigenvectors = np.linalg.eig(matrix)\n",
        "print(\"Eigenvalues:\", eigenvalues)\n",
        "print(\"Eigenvectors:\\n\", eigenvectors)\n"
      ],
      "metadata": {
        "colab": {
          "base_uri": "https://localhost:8080/"
        },
        "id": "kd_FtjOiXWLU",
        "outputId": "16806493-ba32-49c3-8bfd-3fa0701abfde"
      },
      "execution_count": null,
      "outputs": [
        {
          "output_type": "stream",
          "name": "stdout",
          "text": [
            "Eigenvalues: [3. 2.]\n",
            "Eigenvectors:\n",
            " [[0.89442719 0.70710678]\n",
            " [0.4472136  0.70710678]]\n"
          ]
        }
      ]
    },
    {
      "cell_type": "code",
      "source": [
        "# Create a complex number array\n",
        "complex_arr = np.array([1+2j, 3+4j, 5+6j])\n",
        "print(\"Complex array:\", complex_arr)\n",
        "print(\"Real part:\", np.real(complex_arr))\n",
        "print(\"Imaginary part:\", np.imag(complex_arr))\n"
      ],
      "metadata": {
        "colab": {
          "base_uri": "https://localhost:8080/"
        },
        "id": "Sl0NCVigXon2",
        "outputId": "ef917d47-d061-41c5-9323-bea8739c31cb"
      },
      "execution_count": null,
      "outputs": [
        {
          "output_type": "stream",
          "name": "stdout",
          "text": [
            "Complex array: [1.+2.j 3.+4.j 5.+6.j]\n",
            "Real part: [1. 3. 5.]\n",
            "Imaginary part: [2. 4. 6.]\n"
          ]
        }
      ]
    },
    {
      "cell_type": "markdown",
      "source": [
        "## Broadcasting"
      ],
      "metadata": {
        "id": "Dbbagd01UrOu"
      }
    },
    {
      "cell_type": "code",
      "source": [
        "# Add a scalar to an array\n",
        "print(\"Add 5 to each element:\", arr + 5)\n"
      ],
      "metadata": {
        "colab": {
          "base_uri": "https://localhost:8080/"
        },
        "id": "NBlHZjZ2Un11",
        "outputId": "f9f5c720-9a47-4451-879d-185972b0e827"
      },
      "execution_count": null,
      "outputs": [
        {
          "output_type": "stream",
          "name": "stdout",
          "text": [
            "Add 5 to each element: [[ 6  7  8]\n",
            " [ 9 10 11]\n",
            " [12 13 14]]\n"
          ]
        }
      ]
    },
    {
      "cell_type": "markdown",
      "source": [
        "## Handling Missing Values"
      ],
      "metadata": {
        "id": "lOsh0wFaVHFi"
      }
    },
    {
      "cell_type": "code",
      "source": [
        "# NaN (Not a Number) values\n",
        "arr_with_nan = np.array([1, np.nan, 3, 4])\n",
        "print(\"Sum with NaN:\", np.nansum(arr_with_nan))\n"
      ],
      "metadata": {
        "colab": {
          "base_uri": "https://localhost:8080/"
        },
        "id": "fptYXX9zUvr_",
        "outputId": "de424151-6ce3-4294-f03a-549567a31f23"
      },
      "execution_count": null,
      "outputs": [
        {
          "output_type": "stream",
          "name": "stdout",
          "text": [
            "Sum with NaN: 8.0\n"
          ]
        }
      ]
    },
    {
      "cell_type": "code",
      "source": [
        "# Create an array with missing values\n",
        "arr = np.array([1, 2, np.nan, 4, 5])\n",
        "\n",
        "# Calculate the mean, ignoring missing values\n",
        "mean = np.nanmean(arr)\n",
        "\n",
        "# Print the mean\n",
        "print(mean)\n"
      ],
      "metadata": {
        "colab": {
          "base_uri": "https://localhost:8080/"
        },
        "id": "uRuF1z9wVPdr",
        "outputId": "1ebfaa00-2ace-4ec4-ff95-9d3ca576a100"
      },
      "execution_count": null,
      "outputs": [
        {
          "output_type": "stream",
          "name": "stdout",
          "text": [
            "3.0\n"
          ]
        }
      ]
    },
    {
      "cell_type": "markdown",
      "source": [
        "## Conditional Logic\n",
        "\n",
        "The `np.where` function is a powerful tool in Numpy for creating a new array based on conditions applied to an array or pair of arrays. It is used for element-wise selection from two arrays or for finding indices where a condition is True."
      ],
      "metadata": {
        "id": "AV8mYycgYDXj"
      }
    },
    {
      "cell_type": "code",
      "source": [
        "# Define two arrays\n",
        "a = np.array([10, 20, 30, 40, 50])\n",
        "b = np.array([5, 15, 25, 35, 45])\n",
        "\n",
        "# Define a condition: choose elements from `a` if they are greater than 25, else from `b`\n",
        "condition = a > 25\n",
        "\n",
        "# Use np.where\n",
        "c = np.where(condition, a, b)\n",
        "print(\"Array c:\", c)\n",
        "\n"
      ],
      "metadata": {
        "colab": {
          "base_uri": "https://localhost:8080/"
        },
        "id": "-GjIhg3EYFIJ",
        "outputId": "64f83672-5a62-4b7e-d724-3963955c19a1"
      },
      "execution_count": null,
      "outputs": [
        {
          "output_type": "stream",
          "name": "stdout",
          "text": [
            "Array c: [ 5 15 30 40 50]\n"
          ]
        }
      ]
    },
    {
      "cell_type": "markdown",
      "source": [
        "## Simple Linear Regression"
      ],
      "metadata": {
        "id": "9EvlD2tUZfnc"
      }
    },
    {
      "cell_type": "code",
      "source": [
        "# Simple linear regression example\n",
        "x = np.array([0, 1, 2, 3, 4])\n",
        "y = np.array([0, 2, 4, 6, 8])\n",
        "\n",
        "# Coefficients\n",
        "A = np.vstack([x, np.ones(len(x))]).T\n",
        "m, c = np.linalg.lstsq(A, y, rcond=None)[0]\n",
        "print(\"Slope:\", m, \"Intercept:\", c)"
      ],
      "metadata": {
        "colab": {
          "base_uri": "https://localhost:8080/"
        },
        "id": "wDmtcupIYbmT",
        "outputId": "a601190a-d736-4831-c8bf-c2d81b0fad6b"
      },
      "execution_count": null,
      "outputs": [
        {
          "output_type": "stream",
          "name": "stdout",
          "text": [
            "Slope: 2.0 Intercept: -1.6989490183937158e-15\n"
          ]
        }
      ]
    },
    {
      "cell_type": "markdown",
      "source": [
        "## Deep Learning\n",
        "\n",
        "Creating a simple neural network with Numpy involves understanding the basic components of neural networks, including layers, weights, biases, activation functions, and the forward propagation process. Here, we'll create a very basic neural network with one input layer, one hidden layer, and one output layer. This network will be capable of performing forward propagation, which is the process of calculating the output of the neural network given an input.\n",
        "\n",
        "### Neural Network Architecture:\n",
        "\n",
        "- **Input Layer**: Let's say our input layer has 2 neurons (features).\n",
        "- **Hidden Layer**: Our hidden layer will also have 2 neurons for simplicity.\n",
        "- **Output Layer**: The output layer will have 1 neuron (binary classification).\n",
        "\n",
        "### Steps to Create the Neural Network:\n",
        "\n",
        "1. **Initialize Parameters**: Randomly initialize weights and set biases to zero (or small values).\n",
        "2. **Activation Function**: Use a Sigmoid function as the activation function for simplicity.\n",
        "3. **Forward Propagation**: Calculate the input to the hidden layer, apply the activation function, then calculate the input to the output layer, and apply the activation function again to get the output.\n",
        "\n",
        "### Code Example:\n",
        "\n",
        "```python\n",
        "import numpy as np\n",
        "\n",
        "# Sigmoid activation function\n",
        "def sigmoid(x):\n",
        "    return 1 / (1 + np.exp(-x))\n",
        "\n",
        "# Initialize parameters\n",
        "np.random.seed(42)  # For reproducibility\n",
        "input_size = 2\n",
        "hidden_size = 2\n",
        "output_size = 1\n",
        "\n",
        "# Weights and biases\n",
        "W1 = np.random.randn(input_size, hidden_size)  # Weights for input to hidden layer\n",
        "b1 = np.zeros((1, hidden_size))  # Biases for hidden layer\n",
        "W2 = np.random.randn(hidden_size, output_size)  # Weights for hidden to output layer\n",
        "b2 = np.zeros((1, output_size))  # Biases for output layer\n",
        "\n",
        "# Forward propagation\n",
        "def forward_propagation(X):\n",
        "    Z1 = np.dot(X, W1) + b1  # Input to hidden layer\n",
        "    A1 = sigmoid(Z1)  # Activation of hidden layer\n",
        "    Z2 = np.dot(A1, W2) + b2  # Input to output layer\n",
        "    A2 = sigmoid(Z2)  # Activation of output layer (final output)\n",
        "    return A2\n",
        "\n",
        "# Example input (2 features)\n",
        "X = np.array([[0.5, -1.2]])  # An example input\n",
        "\n",
        "# Perform forward propagation\n",
        "output = forward_propagation(X)\n",
        "print(\"Output of the neural network:\", output)\n",
        "```\n",
        "\n",
        "### Explanation:\n",
        "\n",
        "- **Weights and Biases Initialization**: We initialize the weights randomly and biases to zero for both layers. Random initialization helps break symmetry, allowing the model to learn different features during training.\n",
        "- **Forward Propagation**: We calculate the input to the hidden layer by multiplying the input `X` with the weight matrix `W1` and adding the bias `b1`. We apply the sigmoid activation function to this input to get the activated value `A1`. Then, we calculate the input to the output layer by multiplying `A1` with `W2` and adding `b2`. Applying the sigmoid function to this gives us the final output `A2`.\n",
        "\n",
        "This simple neural network demonstrates the basic principles of neural network operations using Numpy. In real applications, you would also need to implement backpropagation to train the network by adjusting the weights and biases based on the error between the predicted output and the actual target values."
      ],
      "metadata": {
        "id": "OjfrA-YoZ_ug"
      }
    },
    {
      "cell_type": "code",
      "source": [
        "# Sigmoid activation function\n",
        "def sigmoid(x):\n",
        "    return 1 / (1 + np.exp(-x))\n",
        "\n",
        "# Initialize parameters\n",
        "np.random.seed(42)  # For reproducibility\n",
        "input_size = 2\n",
        "hidden_size = 2\n",
        "output_size = 1\n",
        "\n",
        "# Weights and biases\n",
        "W1 = np.random.randn(input_size, hidden_size)  # Weights for input to hidden layer\n",
        "b1 = np.zeros((1, hidden_size))  # Biases for hidden layer\n",
        "W2 = np.random.randn(hidden_size, output_size)  # Weights for hidden to output layer\n",
        "b2 = np.zeros((1, output_size))  # Biases for output layer\n",
        "\n",
        "# Forward propagation\n",
        "def forward_propagation(X):\n",
        "    Z1 = np.dot(X, W1) + b1  # Input to hidden layer\n",
        "    A1 = sigmoid(Z1)  # Activation of hidden layer\n",
        "    Z2 = np.dot(A1, W2) + b2  # Input to output layer\n",
        "    A2 = sigmoid(Z2)  # Activation of output layer (final output)\n",
        "    return A2\n",
        "\n",
        "# Example input (2 features)\n",
        "X = np.array([[0.5, -1.2]])  # An example input\n",
        "\n",
        "# Perform forward propagation\n",
        "output = forward_propagation(X)\n",
        "print(\"Output of the neural network:\", output)\n"
      ],
      "metadata": {
        "colab": {
          "base_uri": "https://localhost:8080/"
        },
        "id": "PlhflY8GZlc-",
        "outputId": "e9da9018-b5e2-4221-b14f-566b938ec6f3"
      },
      "execution_count": null,
      "outputs": [
        {
          "output_type": "stream",
          "name": "stdout",
          "text": [
            "Output of the neural network: [[0.47069151]]\n"
          ]
        }
      ]
    }
  ]
}