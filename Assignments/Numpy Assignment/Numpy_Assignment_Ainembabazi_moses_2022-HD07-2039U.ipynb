{
  "cells": [
    {
      "attachments": {},
      "cell_type": "markdown",
      "metadata": {
        "id": "aTz0cvx7Iex3"
      },
      "source": [
        "## Numpy Assignment\n",
        "Student Name: AINEMBABAZI MOSES\n",
        "\n",
        "Reg No: 2022/HD07/2039U\n",
        "\n",
        "## Instructions:\n",
        "- Please complete the questions below.\n",
        "- Please comment your code indicating how you approached the problem"
      ]
    },
    {
      "attachments": {},
      "cell_type": "markdown",
      "metadata": {
        "id": "NwKEk4skG5c2"
      },
      "source": [
        "# What is NumPy, and what are some of its key features?\n",
        "The numerical python (numpy) is a python llibrary used to work with numerical data in python ans is at the core of scientific python and pyData ecostems.\n",
        "\n",
        "The NumPy API is used extensively in Pandas, SciPy, Matplotlib, scikit-learn, scikit-image and most other data science and scientific Python packages.\n",
        "\n",
        "NumPy can be used to perform a wide variety of mathematical operations on arrays. It adds powerful data structures to Python that guarantee efficient calculations with arrays and matrices and it supplies an enormous library of high-level mathematical functions that operate on these arrays and matrices.\n",
        "\n",
        "some of the Key features include\n",
        "-N-dimensional arrays: NumPy provides a powerful N-dimensional array object that can be used to store and manipulate data efficiently.\n",
        "\n",
        "-Broadcasting: Broadcasting is a powerful feature in NumPy that allows arrays with different shapes to be used in arithmetic operations. This can save time and memory by avoiding the need to create explicit copies of arrays.\n",
        "\n",
        "-Vectorized operations: NumPy allows you to perform operations on entire arrays at once, which is much faster than performing the same operations on individual elements in a loop.\n",
        "\n",
        "-Mathematical functions: NumPy provides a wide range of mathematical functions, including trigonometric functions, exponential functions, and logarithmic functions, to name just a few.\n",
        "\n",
        "-Linear algebra: NumPy provides a suite of linear algebra functions, including matrix multiplication, matrix inversion, and eigenvalue decomposition."
      ]
    },
    {
      "cell_type": "code",
      "execution_count": 24,
      "metadata": {},
      "outputs": [],
      "source": [
        "# to install numpy when you have python installed.\n",
        "\n",
        "#conda install numpy or \n",
        "\n",
        "#pip install numpy"
      ]
    },
    {
      "attachments": {},
      "cell_type": "markdown",
      "metadata": {
        "id": "OMqoIR7oJD0i"
      },
      "source": [
        "# How do you create a NumPy array using Python's built-in range() function?\n",
        "\n",
        "in oder to create this array i will have to use numpy.array() or numpy.arange methods and pass the out put of range() function as an arguement."
      ]
    },
    {
      "cell_type": "code",
      "execution_count": 8,
      "metadata": {},
      "outputs": [
        {
          "name": "stdout",
          "output_type": "stream",
          "text": [
            "[0 1 2 3 4 5 6 7]\n",
            "[0 1 2 3 4 5 6 7 8 9]\n"
          ]
        }
      ],
      "source": [
        "#numPy array using built in  range() funcction.\n",
        "# first import numpy\n",
        "\n",
        "import numpy as np\n",
        "\n",
        "arr1 = np.array(range(8))\n",
        "print(arr1)\n",
        "\n",
        "# you can also create a numpy array using arange method\n",
        "arr2 = np.arange(10)\n",
        "print(arr2)"
      ]
    },
    {
      "attachments": {},
      "cell_type": "markdown",
      "metadata": {
        "id": "DRVy8tPoJHQr"
      },
      "source": [
        "# What is the difference between a scalar value and a vector in NumPy?\n",
        "\n",
        "a scalar value in numpy is a single value or a number, whereas a vector is an array of values.\n",
        "A scalar value in NumPy has zero dimensions and can be created using the numpy.array() method with a single argument while the array has more than one dimensions."
      ]
    },
    {
      "cell_type": "code",
      "execution_count": 26,
      "metadata": {},
      "outputs": [
        {
          "name": "stdout",
          "output_type": "stream",
          "text": [
            "12\n"
          ]
        }
      ],
      "source": [
        "# create a scalar value, it has no range\n",
        "mozey = np.array(12) #scalar value of 12 using the numpy.array() method with a single argument.\n",
        "print(mozey)"
      ]
    },
    {
      "cell_type": "code",
      "execution_count": 27,
      "metadata": {},
      "outputs": [
        {
          "name": "stdout",
          "output_type": "stream",
          "text": [
            "[0 2 3 6 5]\n"
          ]
        }
      ],
      "source": [
        "#a vector in NumPy has one or more dimensions and can be created using the numpy.array() method \n",
        "# with a sequence of values or a list.\n",
        "\n",
        "# create a vector with one dimension\n",
        "vec1 = np.array([0, 2, 3, 6, 5])\n",
        "print(vec1)\n",
        "\n"
      ]
    },
    {
      "cell_type": "code",
      "execution_count": 28,
      "metadata": {},
      "outputs": [
        {
          "name": "stdout",
          "output_type": "stream",
          "text": [
            "[[1 4 3]\n",
            " [7 5 8]]\n"
          ]
        }
      ],
      "source": [
        "# create a vector with two dimensions\n",
        "vec2 = np.array([[1, 4, 3], [7, 5, 8]])\n",
        "print(vec2)"
      ]
    },
    {
      "attachments": {},
      "cell_type": "markdown",
      "metadata": {
        "id": "lHa-pHerJKd0"
      },
      "source": [
        "# How do you calculate the mean of a NumPy array using the mean() function?\n",
        "\n",
        "Python NumPy array mean() function is used to compute the arithmetic mean or average of the array \n",
        "elements along with the specified axis or multiple axis. You get the mean by calculating the sum of \n",
        "all values in a Numpy array divided by the total number of values.\n",
        "\n"
      ]
    },
    {
      "cell_type": "code",
      "execution_count": 29,
      "metadata": {},
      "outputs": [
        {
          "name": "stdout",
          "output_type": "stream",
          "text": [
            "5.375\n"
          ]
        }
      ],
      "source": [
        "# lets get the mean nof  a two dimensional array\n",
        "array2d = np.array([[6, 3, 9, 8], [5, 3, 2, 7]])\n",
        "\n",
        " # mean function to find mean of the array\n",
        "np = np.mean(array2d)\n",
        "\n",
        "print(np)"
      ]
    },
    {
      "attachments": {},
      "cell_type": "markdown",
      "metadata": {
        "id": "EqpLGTh8JON9"
      },
      "source": [
        "# What is broadcasting in NumPy, and how can it be useful?\n",
        "-NumPy broadcast() function in Python is used to return an object that mimics broadcasting. \n",
        "-It describes the ability of NumPy to treat arrays of different shapes during arithmetic operations. \n",
        "The broadcasting rules of NumPy are designed to be intuitive and to work naturally with the way mathematical operations are performed. The rules can be summarized as follows:\n",
        "\n",
        "If the arrays have the same shape, then the operation is performed element-wise on the corresponding elements.\n",
        "\n",
        "If the arrays have different shapes, then the array with fewer dimensions is padded with ones on its leading (left) side until the shapes have the same length.\n",
        "\n",
        "If the arrays have the same number of dimensions, but their shapes do not match, then the array with shape equal to 1 in a given dimension is stretched to match the shape of the other array in that dimension."
      ]
    },
    {
      "cell_type": "code",
      "execution_count": 48,
      "metadata": {},
      "outputs": [
        {
          "name": "stdout",
          "output_type": "stream",
          "text": [
            "[[ 7  6  7]\n",
            " [ 9  8  9]\n",
            " [11 10 11]]\n"
          ]
        }
      ],
      "source": [
        "# shape is (3,)\n",
        "ab = np.array([3, 2, 3])  \n",
        "\n",
        "# shape is (3,1)   \n",
        "bc = np.array([[4], [6], [8]]) \n",
        "\n",
        "# add the arrays using broadcasting\n",
        "ct = ab + bc\n",
        "\n",
        "print(ct)\n"
      ]
    },
    {
      "attachments": {},
      "cell_type": "markdown",
      "metadata": {},
      "source": [
        "# How can you slice a NumPy array to extract a subarray?\n",
        "\n",
        "Slicing in NumPy is the operation of extracting a portion of a NumPy array based on a specified range of indices. It allows you to create a view of a portion of the array without copying the data.\n",
        "\n",
        "Slicing in NumPy is similar to slicing in Python's built-in lists, but with some additional features. You can use slicing to extract a subarray, or a specific portion of an array along one or more dimensions. Slicing in NumPy is accomplished using the slicing notation, which uses the colon : to specify a range of indices.\n",
        "\n"
      ]
    },
    {
      "cell_type": "code",
      "execution_count": 70,
      "metadata": {
        "id": "bbLfBXwCJVwX"
      },
      "outputs": [
        {
          "name": "stdout",
          "output_type": "stream",
          "text": [
            "[[ 1 10]\n",
            " [ 7 12]]\n"
          ]
        }
      ],
      "source": [
        "#How can you slice a NumPy array to extract a subarray?\n",
        "\n",
        "# create a 2D array\n",
        "slicearr = np.array([[1, 10, 3], [7,12, 6], [7, 8, 9]])\n",
        "\n",
        "# extract a subarray specifying start rows and end columns\n",
        "subset_arr= slicearr[0:2, 0:2]\n",
        "\n",
        "# print the subarray\n",
        "print(subset_arr)\n"
      ]
    },
    {
      "attachments": {},
      "cell_type": "markdown",
      "metadata": {
        "id": "c1jTMq5AJbS2"
      },
      "source": [
        "# What are some of the available functions for performing element-wise operations on NumPy arrays?\n",
        "Element-wise operations in NumPy refer to mathematical operations that are performed on each element of a NumPy array individually, rather than on the array as a whole. In other words, the operation is applied to each element of the array separately and independently of the other elements.\n",
        "\n",
        "    -np.add(): Adds corresponding elements in two arrays.\n",
        "\n",
        "    -np.subtract(): Subtracts corresponding elements in two arrays.\n",
        "\n",
        "    -np.multiply(): Multiplies corresponding elements in two arrays.\n",
        "\n",
        "    -np.divide(): Divides corresponding elements in two arrays.\n",
        "\n",
        "    -np.ceil(): Rounds each element in the array up to the nearest integer.\n",
        "\n",
        "    -np.power(): Computes the power of each element in the array.\n",
        "\n",
        "    -np.maximum(): Computes the maximum of corresponding elements in two arrays.\n",
        "\n",
        "    -np.minimum(): Computes the minimum of corresponding elements in two arrays\n",
        "    \n",
        "    -np.round(): Rounds each element in the array to the nearest integer."
      ]
    },
    {
      "cell_type": "code",
      "execution_count": 77,
      "metadata": {},
      "outputs": [
        {
          "name": "stdout",
          "output_type": "stream",
          "text": [
            "[ 4  6  8 10 12]\n",
            "[5 6 7 8 9]\n"
          ]
        }
      ],
      "source": [
        "#example of element wise operations\n",
        "\n",
        "vb = np.array([2,3,4,5,6])\n",
        "\n",
        "#lets use * for multiplication and will be applied to each element\n",
        "\n",
        "a = 2 * vb\n",
        "\n",
        "# or we can add 3 to ech element in the array\n",
        "b = 3 + vb\n",
        "\n",
        "print(a)\n",
        "\n",
        "print(b)"
      ]
    },
    {
      "cell_type": "markdown",
      "metadata": {
        "id": "dPgmCPERJe_2"
      },
      "source": [
        "# How do you reshape a NumPy array to have a different shape?\n",
        "Reshaping a NumPy array to have a different shape, you can use the reshape() function.\n",
        "The reshape() function returns a new NumPy array with the same data but a different shape. \n",
        "The syntax for reshape() function is:\n",
        "\n",
        "\n"
      ]
    },
    {
      "cell_type": "code",
      "execution_count": 82,
      "metadata": {},
      "outputs": [
        {
          "name": "stdout",
          "output_type": "stream",
          "text": [
            "[[[ 1  2]\n",
            "  [ 3  4]\n",
            "  [ 5  6]]\n",
            "\n",
            " [[ 7  8]\n",
            "  [ 9 10]\n",
            "  [11 12]]]\n"
          ]
        }
      ],
      "source": [
        "mzy = np.array([[1, 2, 3], [4, 5, 6], [7, 8, 9], [10, 11, 12]])\n",
        "\n",
        "b = np.reshape(mzy, (2, 3, 2))\n",
        "\n",
        "print(b)"
      ]
    },
    {
      "attachments": {},
      "cell_type": "markdown",
      "metadata": {},
      "source": [
        "# How do you perform matrix multiplication on two NumPy arrays using the dot() function?\n",
        "For matrix multiplication to be valid, the number of columns of the first matrix must be equal to the number of rows of the second matrix\n",
        " both arrays have the same number of rows and columns, they are both square matrices. However, for matrix multiplication to be valid, they need to be transposed in such a way that the number of columns of the first matrix matches the number of rows of the second matrix"
      ]
    },
    {
      "cell_type": "code",
      "execution_count": 8,
      "metadata": {},
      "outputs": [
        {
          "name": "stdout",
          "output_type": "stream",
          "text": [
            "[[ 46 126]\n",
            " [ 65 132]]\n"
          ]
        }
      ],
      "source": [
        "import numpy as np\n",
        "\n",
        "#two square matrices since the number of columns and rows are the same\n",
        "myarr = np.array([[7, 4, 5], [6, 9, 2]])\n",
        "arr1 = np.array([[3, 5, 1], [7, 8, 9]])\n",
        "#transpose one of the arrays so that it has the correct shape for matrix multiplication.\n",
        "arr1 = arr1.T #use .T for transposing\n",
        "array2 = np.dot(myarr, arr1)\n",
        "\n",
        "print(array2)"
      ]
    },
    {
      "cell_type": "markdown",
      "metadata": {
        "id": "JtbVS5P0Jodg"
      },
      "source": [
        "# How can you use the where() function to apply a condition to a NumPy array?\n",
        "\n",
        "numpy.where() function can be used to apply a condition to a NumPy array and return the indices where the condition is true. The general syntax of the where() function\n",
        "numpy.where(condition[, x, y]), x is the value to be returned where the condition is true, and y is the value to be returned where the condition is false. If x and y are not specified, \n",
        "where() returns a tuple of arrays containing the indices where the condition is true."
      ]
    },
    {
      "cell_type": "code",
      "execution_count": 20,
      "metadata": {},
      "outputs": [
        {
          "name": "stdout",
          "output_type": "stream",
          "text": [
            "(array([3, 4]),)\n"
          ]
        }
      ],
      "source": [
        "\n",
        "\n",
        "# Create a 1D NumPy array\n",
        "arr_id = np.array([1, 2, 3, 4, 5])\n",
        "\n",
        "# Apply a condition to the array\n",
        "cond = arr_id > 3\n",
        "\n",
        "# Use where() to return the indices where the condition is true\n",
        "indices = np.where(cond)\n",
        "\n",
        "print(indices)\n"
      ]
    },
    {
      "cell_type": "code",
      "execution_count": 9,
      "metadata": {},
      "outputs": [
        {
          "ename": "NameError",
          "evalue": "name 'arr' is not defined",
          "output_type": "error",
          "traceback": [
            "\u001b[0;31m---------------------------------------------------------------------------\u001b[0m",
            "\u001b[0;31mNameError\u001b[0m                                 Traceback (most recent call last)",
            "Cell \u001b[0;32mIn[9], line 8\u001b[0m\n\u001b[1;32m      5\u001b[0m arr_where \u001b[38;5;241m=\u001b[39m np\u001b[38;5;241m.\u001b[39marray([\u001b[38;5;241m1\u001b[39m, \u001b[38;5;241m2\u001b[39m, \u001b[38;5;241m3\u001b[39m, \u001b[38;5;241m4\u001b[39m, \u001b[38;5;241m5\u001b[39m])\n\u001b[1;32m      7\u001b[0m \u001b[38;5;66;03m# Replace values in the array based on a condition\u001b[39;00m\n\u001b[0;32m----> 8\u001b[0m arr_where \u001b[38;5;241m=\u001b[39m np\u001b[38;5;241m.\u001b[39mwhere(\u001b[43marr\u001b[49m \u001b[38;5;241m>\u001b[39m \u001b[38;5;241m3\u001b[39m, \u001b[38;5;241m10\u001b[39m, arr_where)\n\u001b[1;32m     10\u001b[0m \u001b[38;5;28mprint\u001b[39m(arr_where)\n",
            "\u001b[0;31mNameError\u001b[0m: name 'arr' is not defined"
          ]
        }
      ],
      "source": [
        "#use where() to replace values in an array based on a condition.\n",
        "# To do this, you can pass the array itself as the second argument to where() and the replacement value as the third argument.\n",
        "\n",
        "# Create a 1D NumPy array\n",
        "arr_where = np.array([1, 2, 3, 4, 5])\n",
        "\n",
        "# Replace values in the array based on a condition\n",
        "arr_where = np.where(arr > 3, 10, arr_where)\n",
        "\n",
        "print(arr_where)\n"
      ]
    },
    {
      "attachments": {},
      "cell_type": "markdown",
      "metadata": {},
      "source": [
        "# What is the difference between the flatten() and ravel() functions in NumPy?\n",
        "\n",
        "What is the difference between the Numpy flatten and ravel functions? The main functional distinction is that flatten is a function of an ndarray object and hence only works with genuine numpy arrays. ravel(), on the other hand, is a library-level function that may be invoked on any object that can be correctly parsed. For example, ravel() may work on a list of ndarrays, although flatten will not clearly.\n",
        "numpy.ravel() Function\n",
        "Syntax :\n",
        "\n",
        "numpy.ravel(a, order='C')\n",
        "NumPy’s ravel function can only accept two parameters, one of which is \"a,\" which is used to provide the input array to the function. The second argument is ordered, which is the default parameter. A 1-D array is constructed by packing the items of \"a\" in the order indicated by the order parameter.\n",
        "\n",
        "ndarray.flatten() Function\n",
        "Syntax :\n",
        "\n",
        "ndarray.flatten(order='C')\n",
        "It just needs one argument, order, which is the default parameter. Similar to the ravel function order, this specifies the order in which the NumPy array will be built by packing the items of a ndarray.\n",
        "\n"
      ]
    },
    {
      "cell_type": "code",
      "execution_count": 24,
      "metadata": {
        "id": "UkJ-LQlhJrMA"
      },
      "outputs": [
        {
          "name": "stdout",
          "output_type": "stream",
          "text": [
            "Original array:\n",
            " [[ 0  1  2]\n",
            " [ 3  4  5]\n",
            " [ 6  7  8]\n",
            " [ 9 10 11]\n",
            " [12 13 14]]\n",
            "Array b :  [   0    1 1000    3    4    5    6    7    8    9   10   11   12   13\n",
            "   14]\n",
            "Original array:\n",
            " [[   0    1 1000]\n",
            " [   3    4    5]\n",
            " [   6    7    8]\n",
            " [   9   10   11]\n",
            " [  12   13   14]]\n",
            "Array a :  [   0    1 1000    3    4    5    6    7    8    9   10   11   12   13\n",
            "   14]\n"
          ]
        }
      ],
      "source": [
        "\n",
        "\n",
        "# Create a 5x3 two-dimensional array with consecutive integers from 0 to 14\n",
        "original_array = np.arange(15).reshape(5, 3)\n",
        "\n",
        "# Use the ravel() function to flatten the original array and store the result in a new variable a\n",
        "a = original_array.ravel()\n",
        "\n",
        "# Use the flatten() function to create a copy of the original array and flatten it, storing the result in a new variable b\n",
        "b = original_array.flatten()\n",
        "\n",
        "# Modify the third element of the flattened array b to be 10000\n",
        "b[2] = 1000\n",
        "\n",
        "# Print the original array, which is not affected by modifying the copy b\n",
        "print('Original array:\\n', original_array)\n",
        "\n",
        "# Print the modified array b\n",
        "print(\"Array b : \", b)\n",
        "\n",
        "# Modify the third element of the flattened array a to be 10000\n",
        "a[2] = 1000\n",
        "\n",
        "# Print the original array, which is now affected by modifying the reference a\n",
        "print('Original array:\\n', original_array)\n",
        "\n",
        "# Print the modified array a\n",
        "print(\"Array a : \", a)\n"
      ]
    },
    {
      "attachments": {},
      "cell_type": "markdown",
      "metadata": {},
      "source": [
        "# How do you use NumPy's advanced indexing capabilities to select specific elements from an array?\n",
        "NumPy provides advanced indexing capabilities to select specific elements from an array. There are two types of advanced indexing:\n",
        "\n",
        "Boolean indexing: Selecting elements from an array based on a Boolean condition.\n",
        "\n",
        "Integer indexing: Selecting elements from an array based on their index or position.\n",
        " Advanced indexing is triggered when obj is : \n",
        "\n",
        "an ndarray of type integer or Boolean\n",
        "or a tuple with at least one sequence object\n",
        "is a non tuple sequence object\n",
        "Advanced indexing returns a copy of data rather than a view of it. Advanced indexing is of two types integer and Boolean.\n",
        "\n",
        "Purely integer indexing : When integers are used for indexing. Each element of first dimension is paired with the element of the second dimension. So the index of the elements in this case are (0,0),(1,0),(2,1) and the corresponding elements are selected."
      ]
    },
    {
      "cell_type": "code",
      "execution_count": 23,
      "metadata": {
        "id": "5cf9aukfJsaB"
      },
      "outputs": [
        {
          "name": "stdout",
          "output_type": "stream",
          "text": [
            "[1 3 6]\n"
          ]
        }
      ],
      "source": [
        "# Python program showing advanced indexing\n",
        "a = np.array([[1 ,2 ],[3 ,4 ],[5 ,6 ]])\n",
        "print(a[[0 ,1 ,2 ],[0 ,0 ,1]])\n",
        "\n",
        "\n"
      ]
    },
    {
      "cell_type": "code",
      "execution_count": 22,
      "metadata": {},
      "outputs": [
        {
          "name": "stdout",
          "output_type": "stream",
          "text": [
            "[400 870 100]\n"
          ]
        }
      ],
      "source": [
        "# You may wish to select numbers greater than 50\n",
        "# this is done in boolean indedxing\n",
        " \n",
        "a = np.array([10,40, 400, 870, 50, 100])\n",
        "print(a[a>50])"
      ]
    },
    {
      "attachments": {},
      "cell_type": "markdown",
      "metadata": {
        "id": "b2NpOnu2JxMp"
      },
      "source": [
        "# How can you use NumPy's broadcasting rules to perform operations on arrays with different shapes?\n",
        "The term broadcasting describes how NumPy treats arrays with different shapes during arithmetic operations. Subject to certain constraints, the smaller array is “broadcast” across the larger array so that they have compatible shapes. Broadcasting provides a means of vectorizing array operations so that looping occurs in C instead of Python. It does this without making needless copies of data and usually leads to efficient algorithm implementations. There are, however, cases where broadcasting is a bad idea because it leads to inefficient use of memory that slows computation."
      ]
    },
    {
      "cell_type": "code",
      "execution_count": 21,
      "metadata": {
        "id": "vS-gg1ZrJ8s6"
      },
      "outputs": [
        {
          "data": {
            "text/plain": [
              "array([2., 4., 6.])"
            ]
          },
          "execution_count": 21,
          "metadata": {},
          "output_type": "execute_result"
        }
      ],
      "source": [
        "#How do you perform element-wise division of two NumPy arrays while ignoring divide-by-zero errors?\n",
        "a = np.array([1.0, 2.0, 3.0])\n",
        "b = np.array([2.0, 2.0, 2.0])\n",
        "a * b"
      ]
    },
    {
      "cell_type": "markdown",
      "metadata": {
        "id": "XgeHrSj7KzTj"
      },
      "source": [
        "### Project: Array Statistics Calculator\n",
        "**Description:**\n",
        "\n",
        "In this project, you will create a program that allows a user to enter a list of numbers, and then calculates and displays various statistics about those numbers using NumPy.\n",
        "\n",
        "**Requirements:**\n",
        "\n",
        "- The program should prompt the user to enter a list of numbers separated by commas.\n",
        "- The program should use NumPy to convert the input into a 1D NumPy array.\n",
        "- The program should calculate and display the following statistics:\n",
        "- The mean of the numbers\n",
        "- The median of the numbers\n",
        "- The standard deviation of the numbers\n",
        "- The maximum and minimum values of the numbers\n",
        "- The program should use appropriate NumPy functions to calculate the statistics.\n",
        "- The program should display the statistics with appropriate labels.\n",
        "\n",
        "### Sample Output\n",
        "```\n",
        "Enter a list of numbers separated by commas: 2, 5, 7, 3, 1, 9\n",
        "Statistics for the input array:\n",
        "Mean: 4.5\n",
        "Median: 4.0\n",
        "Standard Deviation: 2.9154759474226504\n",
        "Maximum: 9\n",
        "Minimum: 1\n",
        "```"
      ]
    },
    {
      "cell_type": "code",
      "execution_count": 71,
      "metadata": {
        "id": "xQU4w-RxLgWZ"
      },
      "outputs": [
        {
          "name": "stdout",
          "output_type": "stream",
          "text": [
            "Statistics:\n",
            "Mean:  6.0\n",
            "Median:  6.5\n",
            "Standard Deviation:  2.3804761428476167\n",
            "Maximum Value:  9.0\n",
            "Minimum Value:  2.0\n"
          ]
        }
      ],
      "source": [
        "\n",
        "# Prompt the user to enter a list of numbers separated by commas\n",
        "num_list = input(\"Enter a list of numbers separated by commas: \")\n",
        "\n",
        "# Convert the input into a 1D NumPy array\n",
        "num_array = np.array([float(x) for x in num_list.split(',')])\n",
        "\n",
        "# Calculate the statistics using NumPy functions\n",
        "mean = np.mean(num_array)\n",
        "median = np.median(num_array)\n",
        "std_dev = np.std(num_array)\n",
        "max_val = np.max(num_array)\n",
        "min_val = np.min(num_array)\n",
        "\n",
        "# Display the statistics with appropriate labels\n",
        "print(\"Statistics:\")\n",
        "print(\"Mean: \", mean)\n",
        "print(\"Median: \", median)\n",
        "print(\"Standard Deviation: \", std_dev)\n",
        "print(\"Maximum Value: \", max_val)\n",
        "print(\"Minimum Value: \", min_val)\n"
      ]
    }
  ],
  "metadata": {
    "colab": {
      "provenance": []
    },
    "kernelspec": {
      "display_name": "Python 3",
      "name": "python3"
    },
    "language_info": {
      "codemirror_mode": {
        "name": "ipython",
        "version": 3
      },
      "file_extension": ".py",
      "mimetype": "text/x-python",
      "name": "python",
      "nbconvert_exporter": "python",
      "pygments_lexer": "ipython3",
      "version": "3.12.1"
    }
  },
  "nbformat": 4,
  "nbformat_minor": 0
}
