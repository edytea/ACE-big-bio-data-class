{
  "cells": [
    {
      "cell_type": "markdown",
      "metadata": {
        "id": "xWUw5yQgI-eY"
      },
      "source": [
        "**Basic Array Operations**"
      ]
    },
    {
      "cell_type": "code",
      "execution_count": null,
      "metadata": {
        "id": "d4F-SQaEIAC7"
      },
      "outputs": [],
      "source": [
        "# How do you create a NumPy array of zeros with shape (4, 5)?"
      ]
    },
    {
      "cell_type": "code",
      "execution_count": 34,
      "metadata": {},
      "outputs": [
        {
          "name": "stdout",
          "output_type": "stream",
          "text": [
            "[[0. 0. 0. 0. 0.]\n",
            " [0. 0. 0. 0. 0.]\n",
            " [0. 0. 0. 0. 0.]\n",
            " [0. 0. 0. 0. 0.]]\n"
          ]
        }
      ],
      "source": [
        "# First, I import numpy library\n",
        "import numpy as np\n",
        "# Then, I create a numpy array of zeroes with shape.(4,5) using zeros() method\n",
        "zeros_array = np.zeros((4, 5))\n",
        "print(zeros_array) "
      ]
    },
    {
      "cell_type": "markdown",
      "metadata": {
        "id": "u_4MoAHFJGX5"
      },
      "source": [
        "**Array Indexing**"
      ]
    },
    {
      "cell_type": "code",
      "execution_count": 41,
      "metadata": {
        "id": "MfWr8wPRI4NG"
      },
      "outputs": [
        {
          "name": "stdout",
          "output_type": "stream",
          "text": [
            "[[0.91958854 0.92905522 0.41560896 0.62439237 0.91606814]\n",
            " [0.76680789 0.62993241 0.48106376 0.74497714 0.35142832]\n",
            " [0.89457256 0.52778062 0.49561579 0.3238563  0.75422811]\n",
            " [0.35778987 0.40390217 0.66437449 0.84942997 0.34026924]]\n",
            "Element at second row and third column: 0.48106375932263246\n"
          ]
        }
      ],
      "source": [
        "#  Given a two-dimensional NumPy array `arr`, how can you access the element at the second row and third column?\n",
        "\n",
        "# You begin by importing numpy library\n",
        "import numpy as np\n",
        "\n",
        "# Assuming arr is my NumPy array of random array (4,5)\n",
        "arr = np.random.rand(4, 5)\n",
        "print(arr)\n",
        "# Accessing the element at the second row and third column is as shown below\n",
        "element = arr[1, 2]\n",
        "\n",
        "print(\"Element at second row and third column:\", element)"
      ]
    },
    {
      "cell_type": "markdown",
      "metadata": {
        "id": "IgLSTCJzJJri"
      },
      "source": [
        "**Array Slicing**"
      ]
    },
    {
      "cell_type": "code",
      "execution_count": 42,
      "metadata": {
        "id": "-Vt6RGlfI2yV"
      },
      "outputs": [
        {
          "name": "stdout",
          "output_type": "stream",
          "text": [
            "[[0.91958854 0.92905522 0.41560896 0.62439237 0.91606814]\n",
            " [0.76680789 0.62993241 0.48106376 0.74497714 0.35142832]\n",
            " [0.89457256 0.52778062 0.49561579 0.3238563  0.75422811]\n",
            " [0.35778987 0.40390217 0.66437449 0.84942997 0.34026924]]\n",
            "First three elements of the second row: [0.76680789 0.62993241 0.48106376]\n"
          ]
        }
      ],
      "source": [
        "#  How do you slice a NumPy array to extract the first three elements of the second row?\n",
        "\n",
        "# considering the array arr created above,\n",
        "# Extracting the first three elements of the second row is by\n",
        "extracted_elements = arr[1, :3]\n",
        "print(arr)\n",
        "print(\"First three elements of the second row:\", extracted_elements)\n"
      ]
    },
    {
      "cell_type": "markdown",
      "metadata": {
        "id": "xFOJjvcAJL8C"
      },
      "source": [
        "**Array Data Types**"
      ]
    },
    {
      "cell_type": "code",
      "execution_count": 33,
      "metadata": {
        "id": "Elbb0HBrI1L-"
      },
      "outputs": [
        {
          "name": "stdout",
          "output_type": "stream",
          "text": [
            "The data type of the elements in the arr array is: float64\n"
          ]
        }
      ],
      "source": [
        "#  How can you find the data type of the elements in a NumPy array?\n",
        "# Assuming arr is my NumPy array,\n",
        "arr = np.random.rand(5, 8)\n",
        "\n",
        "# Getting the data type of the elements in the arr is by dtype() method in NumPy\n",
        "d_type = arr.dtype\n",
        "\n",
        "print(\"The data type of the elements in the arr array is:\", d_type)"
      ]
    },
    {
      "cell_type": "markdown",
      "metadata": {
        "id": "2P5hyDA0JSVC"
      },
      "source": [
        "**Array Shape Manipulation**:"
      ]
    },
    {
      "cell_type": "code",
      "execution_count": 25,
      "metadata": {
        "id": "x8UAmlznIzf1"
      },
      "outputs": [
        {
          "name": "stdout",
          "output_type": "stream",
          "text": [
            "The original 1D array: [0 1 2 3 4 5 6 7 8 9]\n",
            "The reshaped 2D array: \n",
            "[[0 1 2 3 4]\n",
            " [5 6 7 8 9]]\n"
          ]
        }
      ],
      "source": [
        "#  How can you reshape a 1D array of 10 elements into a 2D array with 2 rows and 5 columns?\n",
        "\n",
        "# After importing numpy library, I create a 1D array of 10 elements by using arrange() menthod\n",
        "arr_1D = np.arange(10)\n",
        "\n",
        "# I rreshape the 1D array into a 2D array with 2 rows and 5 columns using reshape method\n",
        "arr_2D = arr_1D.reshape(2, 5)\n",
        "\n",
        "print(\"The original 1D array: \"+str(arr_1D))\n",
        "print(\"The reshaped 2D array: \")\n",
        "print(arr_2D)"
      ]
    },
    {
      "cell_type": "markdown",
      "metadata": {
        "id": "7LcqUYq4JVMM"
      },
      "source": [
        "**Array Concatenation**:"
      ]
    },
    {
      "cell_type": "code",
      "execution_count": 28,
      "metadata": {
        "id": "9mLVw9AwIyJN"
      },
      "outputs": [
        {
          "name": "stdout",
          "output_type": "stream",
          "text": [
            "Concatenated vertically:\n",
            "[[12 11 10]\n",
            " [ 9  8  7]\n",
            " [ 1  2  3]\n",
            " [ 4  5  6]]\n",
            "\n",
            "Concatenated horizontally:\n",
            "[[12 11 10  1  2  3]\n",
            " [ 9  8  7  4  5  6]]\n"
          ]
        }
      ],
      "source": [
        "#  How do you concatenate two arrays vertically and horizontally?\n",
        "\n",
        "# After importing numpy library as np, i create two arrays arr1 and arr2 using array() method\n",
        "arr1 = np.array([[12, 11, 10],\n",
        "                 [9, 8, 7]])\n",
        "arr2 = np.array([[1, 2, 3],\n",
        "                 [4, 5, 6]])\n",
        "\n",
        "# I Concatenate vertically using concateate() metthod with axis=0\n",
        "vertical_concatenated = np.concatenate((arr1, arr2), axis=0)\n",
        "\n",
        "print(\"Concatenated vertically:\")\n",
        "print(vertical_concatenated)\n",
        "\n",
        "# Concatenate horizontally using concateate() metthod with axis=1\n",
        "horizontal_concatenated = np.concatenate((arr1, arr2), axis=1)\n",
        "\n",
        "print(\"\\nConcatenated horizontally:\")\n",
        "print(horizontal_concatenated)\n"
      ]
    },
    {
      "cell_type": "markdown",
      "metadata": {
        "id": "iq1Qi5gbJXZj"
      },
      "source": [
        "**Mathematical Operations**:"
      ]
    },
    {
      "cell_type": "code",
      "execution_count": 30,
      "metadata": {
        "id": "vjceRcKVIwa9"
      },
      "outputs": [
        {
          "name": "stdout",
          "output_type": "stream",
          "text": [
            "Element-wise addition results into:\n",
            "[[13 13 13]\n",
            " [13 13 13]]\n"
          ]
        }
      ],
      "source": [
        "#  Perform element-wise addition of two NumPy arrays of the same shape.\n",
        "\n",
        "#Using arr1 and arr2 created above, element-wise addition can be peroformed using + sign between arrays\n",
        "result = arr1 + arr2\n",
        "\n",
        "print(\"Element-wise addition results into:\")\n",
        "print(result)"
      ]
    },
    {
      "cell_type": "markdown",
      "metadata": {
        "id": "jlYGRUplJbmU"
      },
      "source": [
        "**Statistical Methods**:"
      ]
    },
    {
      "cell_type": "code",
      "execution_count": 38,
      "metadata": {
        "id": "lnNx_BeRIu5F"
      },
      "outputs": [
        {
          "name": "stdout",
          "output_type": "stream",
          "text": [
            "Mean: 5.5\n",
            "Median: 5.5\n",
            "Standard Deviation: 2.8722813232690143\n"
          ]
        }
      ],
      "source": [
        "#  How can you calculate the mean, median, and standard deviation of a NumPy array?\n",
        "\n",
        "# After importing numpy as np, first you create an array using array() method. forexample, \n",
        "arr = np.array([1, 2, 3, 4, 5, 6, 7, 8, 9, 10])\n",
        "\n",
        "#Mean is calculated using mean() method\n",
        "mean = np.mean(arr)\n",
        "\n",
        "# Median is calculated using median() method\n",
        "median = np.median(arr)\n",
        "\n",
        "# Standard deviation is calculated using std() method\n",
        "std_deviation = np.std(arr)\n",
        "\n",
        "print(\"Mean:\", mean)\n",
        "print(\"Median:\", median)\n",
        "print(\"Standard Deviation:\", std_deviation)"
      ]
    },
    {
      "cell_type": "code",
      "execution_count": null,
      "metadata": {},
      "outputs": [],
      "source": []
    },
    {
      "cell_type": "markdown",
      "metadata": {
        "id": "xFzy5XseJegc"
      },
      "source": [
        "**Boolean Indexing**:"
      ]
    },
    {
      "cell_type": "code",
      "execution_count": 45,
      "metadata": {
        "id": "2P7qaOn9ItfN"
      },
      "outputs": [
        {
          "name": "stdout",
          "output_type": "stream",
          "text": [
            "[1 5 9 3 7 2 8 6 4]\n",
            "Filtered elements greater than  4 : [5 9 7 8 6]\n"
          ]
        }
      ],
      "source": [
        "#  How can you filter elements of a NumPy array that are greater than a specified value?\n",
        "\n",
        "# Creating numpy array arr using array()\n",
        "arr = np.array([1, 5, 9, 3, 7, 2, 8, 6, 4])\n",
        "print(arr)\n",
        "#  I set the Specified value for filtering like 4\n",
        "spec_value = 4\n",
        "\n",
        "# Filtering elements greater than 4\n",
        "filtered_elements = arr[arr > spec_value]\n",
        "\n",
        "print(\"Filtered elements greater than \", spec_value, \":\", filtered_elements)"
      ]
    },
    {
      "cell_type": "markdown",
      "metadata": {
        "id": "xZrWe7NRJhyl"
      },
      "source": [
        "**Fancy Indexing**:"
      ]
    },
    {
      "cell_type": "code",
      "execution_count": 52,
      "metadata": {
        "id": "vG3uWUQ1Ir5M"
      },
      "outputs": [
        {
          "name": "stdout",
          "output_type": "stream",
          "text": [
            "The selected elements:\n",
            "[ 4 11]\n"
          ]
        }
      ],
      "source": [
        "#  How do you access elements at positions (0, 3) and (2, 1) in a 2D array using fancy indexing?\n",
        "\n",
        "# Fancy indexing in NumPy refers to indexing using arrays of indices, \n",
        "# rather than single scalars or slices. It allows you to access \n",
        "# and manipulate specific elements or subsets of elements \n",
        "# from an array based on their indices.\n",
        "\n",
        "# Creating a 2D NumPy array\n",
        "arr_2D = np.array([[1, 2, 3, 4],\n",
        "                    [5, 6, 7, 8],\n",
        "                    [12, 11, 10, 9]])\n",
        "\n",
        "# Defining row indices and column indices for the elements to be accessed\n",
        "r_indices = np.array([0, 2])  # Row indices for the two elements\n",
        "c_indices = np.array([3, 1])  # Column indices for the two elements\n",
        "\n",
        "# Access elements at specified positions using fancy indexing\n",
        "selected_elements = arr_2D[r_indices, c_indices]\n",
        "\n",
        "print(\"The selected elements:\")\n",
        "print(selected_elements)"
      ]
    },
    {
      "cell_type": "markdown",
      "metadata": {
        "id": "bKS0-huwJkTV"
      },
      "source": [
        "**Array Broadcasting**:"
      ]
    },
    {
      "cell_type": "code",
      "execution_count": 5,
      "metadata": {
        "id": "0YtjgmrKIqON"
      },
      "outputs": [
        {
          "name": "stdout",
          "output_type": "stream",
          "text": [
            "Result of multiplication:\n",
            "[[ 4 10 18]\n",
            " [ 7 16 27]]\n",
            "Result of addition:\n",
            "[[ 5  7  9]\n",
            " [ 8 10 12]]\n"
          ]
        }
      ],
      "source": [
        "#  Explain with an example how NumPy handles operations between arrays of different shapes\n",
        "\n",
        "# NumPy handles operations between arrays of different shapes through a mechanism called broadcasting. \n",
        "# Broadcasting allows NumPy to perform element-wise operations between arrays of \n",
        "# different shapes by implicitly expanding the smaller arrays to match \n",
        "# the shape of the larger array, without making explicit copies of the data. \n",
        "# This mechanism simplifies the syntax and improves the efficiency of array operations.\n",
        "\n",
        "# Lets create a 1D array using array() method\n",
        "ar1 = np.array([1, 2, 3])\n",
        "\n",
        "# Create a 2D array\n",
        "ar2 = np.array([[4, 5, 6],\n",
        "                 [7, 8, 9]])\n",
        "\n",
        "# perform element-wise multiplication\n",
        "ar_mult = ar1 * ar2\n",
        "# Perform element-wise addition\n",
        "ar_add = ar1 + ar2\n",
        "\n",
        "print(\"Result of multiplication:\")\n",
        "print(ar_mult)\n",
        "print(\"Result of addition:\")\n",
        "print(ar_add)"
      ]
    },
    {
      "cell_type": "markdown",
      "metadata": {
        "id": "n5RcP0nEJpPF"
      },
      "source": [
        "**Random Number Generation**:"
      ]
    },
    {
      "cell_type": "code",
      "execution_count": 55,
      "metadata": {
        "id": "4ixapFTYImNs"
      },
      "outputs": [
        {
          "name": "stdout",
          "output_type": "stream",
          "text": [
            "An array of random integers between 1 and 100:\n",
            "[72 38 38 58 11 32 67 23 86 24]\n"
          ]
        }
      ],
      "source": [
        "#  How can you generate an array of 10 random integers between 1 and 100?\n",
        "\n",
        "# Random intergers are generated using randint() function found in random method\n",
        "# Now lets generate an array of 10 random integers between 1 and 100\n",
        "random_integers = np.random.randint(1, 101, size=10)\n",
        "\n",
        "print(\"An array of random integers between 1 and 100:\")\n",
        "print(random_integers)"
      ]
    },
    {
      "cell_type": "markdown",
      "metadata": {
        "id": "QxXedpJrJrpN"
      },
      "source": [
        "**Linear Algebra Operations**:"
      ]
    },
    {
      "cell_type": "code",
      "execution_count": 70,
      "metadata": {
        "id": "NQuzp9nzIkjU"
      },
      "outputs": [
        {
          "name": "stdout",
          "output_type": "stream",
          "text": [
            "Result of matrix multiplication using np.dot():\n",
            "[[ 45  51]\n",
            " [122 140]]\n",
            "\n",
            "Result of matrix multiplication using @ operator:\n",
            "[[ 45  51]\n",
            " [122 140]]\n"
          ]
        }
      ],
      "source": [
        "#  How do you perform matrix multiplication between two 2D arrays?\n",
        "\n",
        "# Lets create  2D arrays using array() method\n",
        "arr1 = np.array([[1,2,3],\n",
        "                 [6,5,7]])\n",
        "\n",
        "arr2 = np.array([[4, 5],\n",
        "                 [7, 8],\n",
        "                 [9,10]])\n",
        "\n",
        "# Perform matrix multiplication using np.dot()\n",
        "result = np.dot(arr1, arr2)\n",
        "print(\"Result of matrix multiplication using np.dot():\")\n",
        "print(result)\n",
        "# And also, you can pperform matrix multiplication using @ operator\n",
        "result1 = arr1 @ arr2\n",
        "\n",
        "print(\"\\nResult of matrix multiplication using @ operator:\")\n",
        "print(result1)"
      ]
    },
    {
      "cell_type": "markdown",
      "metadata": {
        "id": "_YCpaBv_Jt2P"
      },
      "source": [
        "**File I/O**:"
      ]
    },
    {
      "cell_type": "code",
      "execution_count": 56,
      "metadata": {
        "id": "jWWMT_V4IhEL"
      },
      "outputs": [
        {
          "name": "stdout",
          "output_type": "stream",
          "text": [
            "Loaded numpy array:\n",
            "[[10 11 12]\n",
            " [ 4  5  6]\n",
            " [ 7  8  9]]\n"
          ]
        }
      ],
      "source": [
        "#  How can you save a NumPy array to a file and then load it back into memory?\n",
        "\n",
        "# You can save a NumPy array to a file using the np.save() function, \n",
        "# and then load it back into memory using the np.load() function.\n",
        "\n",
        "# Create a NumPy array for demonstration\n",
        "arr = np.array([[10,11,12],\n",
        "                [4, 5, 6],\n",
        "                [7, 8, 9]])\n",
        "\n",
        "# Save the array to a file using np.save() method\n",
        "np.save('numpy_array.npy', arr)\n",
        "\n",
        "# Load the array back into memory using np.load() method\n",
        "loaded_np_array = np.load('numpy_array.npy')\n",
        "\n",
        "print(\"Loaded numpy array:\")\n",
        "print(loaded_np_array)"
      ]
    },
    {
      "cell_type": "markdown",
      "metadata": {
        "id": "oKdE6URKJvS_"
      },
      "source": [
        "#### Project 1: Data Analysis Simulation\n",
        "\n",
        "- **Objective**: Simulate a small data analysis project where you generate a dataset of test scores for a class of 100 students, each having scores in 5 subjects (Math, Physics, Chemistry, English, and Biology). Use NumPy to perform the following tasks:\n"
      ]
    },
    {
      "cell_type": "code",
      "execution_count": 3,
      "metadata": {
        "id": "_eZUApM1Ibu8"
      },
      "outputs": [],
      "source": [
        "  # 1. Generate the dataset using random number generation, ensuring scores range from 0 to 100.\n",
        "  # 2. Calculate the mean score for each subject.\n",
        "  # 3. Find the top 10 students with the highest average scores across all subjects.\n",
        "  # 4. Determine the subject with the highest variance in scores.\n",
        "  # 5. Plot the distribution of scores in each subject using matplotlib or any other plotting library."
      ]
    },
    {
      "cell_type": "code",
      "execution_count": 1,
      "metadata": {
        "id": "oZUUf3z7KqJ6"
      },
      "outputs": [
        {
          "name": "stdout",
          "output_type": "stream",
          "text": [
            "2. Mean scores for each subject [Math, Physics, Chemistry, English, and Biology] is  [47.58 52.69 44.26 53.73 50.95] respectively\n",
            "[74 26  4  7 38 65 35 17 24 41]\n",
            "3. The Top 10 students with the highest average scores:\n",
            "Position 1: Student 75 - Average Score: 80.60\n",
            "Position 2: Student 27 - Average Score: 80.20\n",
            "Position 3: Student 5 - Average Score: 75.20\n",
            "Position 4: Student 8 - Average Score: 74.20\n",
            "Position 5: Student 39 - Average Score: 70.20\n",
            "Position 6: Student 66 - Average Score: 69.80\n",
            "Position 7: Student 36 - Average Score: 69.80\n",
            "Position 8: Student 18 - Average Score: 68.20\n",
            "Position 9: Student 25 - Average Score: 68.00\n",
            "Position 10: Student 42 - Average Score: 67.20\n",
            "The variance for each subject:  [ 899.8636  943.2939  844.1124  764.3971 1001.2075]\n",
            "4. The subject with the highest variance in scores is Subject Biology.\n"
          ]
        }
      ],
      "source": [
        "# Sample code to create the dataset above.\n",
        "import numpy as np\n",
        "\n",
        "# Number of students and subjects\n",
        "num_students = 100\n",
        "#num_subjects = {'Math':1,'Physics':2, 'Chemistry':3, 'English':4, 'Biology':5}\n",
        "num_subjects =5\n",
        "# Generate random scores for each student in each subject, range from 0 to 100\n",
        "t_scores = np.random.randint(0, 101, size=(num_students, num_subjects))\n",
        "\n",
        "# Adding a unique identifier for each student\n",
        "student_ids = np.arange(1, num_students + 1).reshape(num_students, 1)\n",
        "\n",
        "# Concatenating the student IDs with their scores\n",
        "student_scores = np.hstack((student_ids, t_scores))\n",
        "#print(student_scores)\n",
        "\n",
        "# 2. Calculating the mean score for each subject.\n",
        "subject_means = np.mean(student_scores[:,1:], axis=0)\n",
        "print(\"2. Mean scores for each subject [Math, Physics, Chemistry, English, and Biology] is \", subject_means, \"respectively\")\n",
        "\n",
        "# 3. First, we calculate the average score for each student using np.mean()\n",
        "student_avg_scores = np.mean(student_scores[:,1:], axis=1)\n",
        "\n",
        "#  Secondly, we sort the students based on their average scores using np.argsort()\n",
        "top_10_students_indices = np.argsort(student_avg_scores)[::-1][:10]  # sort in descending order\n",
        "print(top_10_students_indices)\n",
        "# Thirdly, we extract the top 10 students' average scores and indices\n",
        "top_10_students_avg_scores = student_avg_scores[top_10_students_indices]\n",
        "top_10_students = [(index + 1, avg_score) for index, avg_score in zip(top_10_students_indices, top_10_students_avg_scores)]\n",
        "\n",
        "# Lastly, we print the top 10 students with their average scores from the highest\n",
        "print(\"3. The Top 10 students with the highest average scores:\")\n",
        "for rank, (index, avg_score) in enumerate(top_10_students, start=1):\n",
        "    print(f\"Position {rank}: Student {index} - Average Score: {avg_score:.2f}\")\n",
        "\n",
        "# 4. We first calculate the variance for each subject\n",
        "sub_var = np.var(t_scores, axis=0)\n",
        "print('The variance for each subject: ',sub_var)\n",
        "# Then we find the subject with the highest variance using np.argmax()\n",
        "high_var_subject_idx = np.argmax(sub_var)\n",
        "subject_names = {\n",
        "    1: \"Math\",\n",
        "    2: \"Physics\",\n",
        "    3: \"Chemistry\",\n",
        "    4: \"English\",\n",
        "    5: \"Biology\"\n",
        "}\n",
        "highest_variance_subject = subject_names[high_var_subject_idx + 1]  # Adding 1 to make it 1-indexed\n",
        "\n",
        "\n",
        "\n",
        "# Then we print the subject with the highest variance\n",
        "print(f\"4. The subject with the highest variance in scores is Subject {highest_variance_subject}.\")"
      ]
    },
    {
      "cell_type": "code",
      "execution_count": 21,
      "metadata": {},
      "outputs": [
        {
          "data": {
            "image/png": "[encoded data removed]",
            "text/plain": [
              "<Figure size 1000x600 with 5 Axes>"
            ]
          },
          "metadata": {},
          "output_type": "display_data"
        }
      ],
      "source": [
        "# Importing matplotlib library\n",
        "import matplotlib.pyplot as plt\n",
        "\n",
        "# Plot the distribution of scores in each subject\n",
        "plt.figure(figsize=(10, 6))\n",
        "for i in range(num_subjects):\n",
        "    plt.subplot(2, 3, i+1)\n",
        "    plt.hist(t_scores[:, i], bins=10, color='green', edgecolor='black', alpha=0.7)\n",
        "    plt.title(f\"Distribution of scores in Subject {i+1}\")\n",
        "    plt.xlabel(\"Score\")\n",
        "    plt.ylabel(\"Frequency\")\n",
        "plt.tight_layout()\n",
        "plt.show()"
      ]
    }
  ],
  "metadata": {
    "colab": {
      "provenance": []
    },
    "kernelspec": {
      "display_name": "Python 3",
      "name": "python3"
    },
    "language_info": {
      "codemirror_mode": {
        "name": "ipython",
        "version": 3
      },
      "file_extension": ".py",
      "mimetype": "text/x-python",
      "name": "python",
      "nbconvert_exporter": "python",
      "pygments_lexer": "ipython3",
      "version": "3.12.2"
    }
  },
  "nbformat": 4,
  "nbformat_minor": 0
}
