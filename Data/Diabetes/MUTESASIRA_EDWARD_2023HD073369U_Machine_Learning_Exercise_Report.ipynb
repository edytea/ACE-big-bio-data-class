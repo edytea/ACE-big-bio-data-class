{
  "cells": [
    {
      "cell_type": "markdown",
      "metadata": {
        "id": "4zHudEf8Au7Q"
      },
      "source": [
        "# Machine Learning Exercise\n",
        "\n",
        "Name: MUTESASIRA EDWARD\n",
        "\n",
        "RegNo: 2023/HD07/3369U"
      ]
    },
    {
      "cell_type": "code",
      "execution_count": 2,
      "metadata": {
        "id": "ayiHpaPsAnVT"
      },
      "outputs": [],
      "source": [
        "# import necessary libraries\n",
        "import pandas as pd\n",
        "from pandas import read_csv\n",
        "import warnings\n",
        "warnings.filterwarnings(\"ignore\")"
      ]
    },
    {
      "cell_type": "code",
      "execution_count": 3,
      "metadata": {
        "id": "Zqnq_IiCA3TK"
      },
      "outputs": [
        {
          "data": {
            "text/html": [
              "<div>\n",
              "<style scoped>\n",
              "    .dataframe tbody tr th:only-of-type {\n",
              "        vertical-align: middle;\n",
              "    }\n",
              "\n",
              "    .dataframe tbody tr th {\n",
              "        vertical-align: top;\n",
              "    }\n",
              "\n",
              "    .dataframe thead th {\n",
              "        text-align: right;\n",
              "    }\n",
              "</style>\n",
              "<table border=\"1\" class=\"dataframe\">\n",
              "  <thead>\n",
              "    <tr style=\"text-align: right;\">\n",
              "      <th></th>\n",
              "      <th>age</th>\n",
              "      <th>sex</th>\n",
              "      <th>on_art</th>\n",
              "      <th>days_art</th>\n",
              "      <th>temp</th>\n",
              "      <th>gcs</th>\n",
              "      <th>weight</th>\n",
              "      <th>fever</th>\n",
              "      <th>dur_fever</th>\n",
              "      <th>headache</th>\n",
              "      <th>...</th>\n",
              "      <th>platelets</th>\n",
              "      <th>sodium</th>\n",
              "      <th>potassium</th>\n",
              "      <th>csf_lactate</th>\n",
              "      <th>csf_glucose_mg</th>\n",
              "      <th>csf_lymph</th>\n",
              "      <th>csf_amt_removed</th>\n",
              "      <th>viralload</th>\n",
              "      <th>artnaive</th>\n",
              "      <th>Label</th>\n",
              "    </tr>\n",
              "  </thead>\n",
              "  <tbody>\n",
              "    <tr>\n",
              "      <th>0</th>\n",
              "      <td>0.0</td>\n",
              "      <td>0.0</td>\n",
              "      <td>1.0</td>\n",
              "      <td>22.0</td>\n",
              "      <td>NaN</td>\n",
              "      <td>0.0</td>\n",
              "      <td>0.0</td>\n",
              "      <td>1.0</td>\n",
              "      <td>11.0</td>\n",
              "      <td>1.0</td>\n",
              "      <td>...</td>\n",
              "      <td>1.0</td>\n",
              "      <td>139.0</td>\n",
              "      <td>4.080910</td>\n",
              "      <td>4.8</td>\n",
              "      <td>1.0</td>\n",
              "      <td>NaN</td>\n",
              "      <td>10.0</td>\n",
              "      <td>1.432357e+06</td>\n",
              "      <td>1.0</td>\n",
              "      <td>0</td>\n",
              "    </tr>\n",
              "    <tr>\n",
              "      <th>1</th>\n",
              "      <td>0.0</td>\n",
              "      <td>1.0</td>\n",
              "      <td>1.0</td>\n",
              "      <td>NaN</td>\n",
              "      <td>35.282291</td>\n",
              "      <td>1.0</td>\n",
              "      <td>1.0</td>\n",
              "      <td>1.0</td>\n",
              "      <td>NaN</td>\n",
              "      <td>1.0</td>\n",
              "      <td>...</td>\n",
              "      <td>1.0</td>\n",
              "      <td>135.0</td>\n",
              "      <td>3.220714</td>\n",
              "      <td>NaN</td>\n",
              "      <td>1.0</td>\n",
              "      <td>NaN</td>\n",
              "      <td>10.0</td>\n",
              "      <td>NaN</td>\n",
              "      <td>0.0</td>\n",
              "      <td>1</td>\n",
              "    </tr>\n",
              "    <tr>\n",
              "      <th>2</th>\n",
              "      <td>1.0</td>\n",
              "      <td>0.0</td>\n",
              "      <td>0.0</td>\n",
              "      <td>101.0</td>\n",
              "      <td>NaN</td>\n",
              "      <td>1.0</td>\n",
              "      <td>0.0</td>\n",
              "      <td>0.0</td>\n",
              "      <td>NaN</td>\n",
              "      <td>0.0</td>\n",
              "      <td>...</td>\n",
              "      <td>1.0</td>\n",
              "      <td>134.0</td>\n",
              "      <td>5.261970</td>\n",
              "      <td>NaN</td>\n",
              "      <td>1.0</td>\n",
              "      <td>NaN</td>\n",
              "      <td>16.0</td>\n",
              "      <td>NaN</td>\n",
              "      <td>1.0</td>\n",
              "      <td>1</td>\n",
              "    </tr>\n",
              "    <tr>\n",
              "      <th>3</th>\n",
              "      <td>NaN</td>\n",
              "      <td>1.0</td>\n",
              "      <td>0.0</td>\n",
              "      <td>NaN</td>\n",
              "      <td>NaN</td>\n",
              "      <td>1.0</td>\n",
              "      <td>1.0</td>\n",
              "      <td>NaN</td>\n",
              "      <td>14.0</td>\n",
              "      <td>1.0</td>\n",
              "      <td>...</td>\n",
              "      <td>1.0</td>\n",
              "      <td>124.0</td>\n",
              "      <td>3.560370</td>\n",
              "      <td>3.0</td>\n",
              "      <td>1.0</td>\n",
              "      <td>NaN</td>\n",
              "      <td>16.0</td>\n",
              "      <td>NaN</td>\n",
              "      <td>0.0</td>\n",
              "      <td>1</td>\n",
              "    </tr>\n",
              "    <tr>\n",
              "      <th>4</th>\n",
              "      <td>NaN</td>\n",
              "      <td>1.0</td>\n",
              "      <td>1.0</td>\n",
              "      <td>49.0</td>\n",
              "      <td>NaN</td>\n",
              "      <td>0.0</td>\n",
              "      <td>0.0</td>\n",
              "      <td>NaN</td>\n",
              "      <td>NaN</td>\n",
              "      <td>1.0</td>\n",
              "      <td>...</td>\n",
              "      <td>1.0</td>\n",
              "      <td>128.0</td>\n",
              "      <td>4.394712</td>\n",
              "      <td>3.8</td>\n",
              "      <td>1.0</td>\n",
              "      <td>NaN</td>\n",
              "      <td>36.0</td>\n",
              "      <td>6.667831e+05</td>\n",
              "      <td>1.0</td>\n",
              "      <td>1</td>\n",
              "    </tr>\n",
              "  </tbody>\n",
              "</table>\n",
              "<p>5 rows × 28 columns</p>\n",
              "</div>"
            ],
            "text/plain": [
              "   age  sex  on_art  days_art       temp  gcs  weight  fever  dur_fever  \\\n",
              "0  0.0  0.0     1.0      22.0        NaN  0.0     0.0    1.0       11.0   \n",
              "1  0.0  1.0     1.0       NaN  35.282291  1.0     1.0    1.0        NaN   \n",
              "2  1.0  0.0     0.0     101.0        NaN  1.0     0.0    0.0        NaN   \n",
              "3  NaN  1.0     0.0       NaN        NaN  1.0     1.0    NaN       14.0   \n",
              "4  NaN  1.0     1.0      49.0        NaN  0.0     0.0    NaN        NaN   \n",
              "\n",
              "   headache  ...  platelets  sodium  potassium  csf_lactate  csf_glucose_mg  \\\n",
              "0       1.0  ...        1.0   139.0   4.080910          4.8             1.0   \n",
              "1       1.0  ...        1.0   135.0   3.220714          NaN             1.0   \n",
              "2       0.0  ...        1.0   134.0   5.261970          NaN             1.0   \n",
              "3       1.0  ...        1.0   124.0   3.560370          3.0             1.0   \n",
              "4       1.0  ...        1.0   128.0   4.394712          3.8             1.0   \n",
              "\n",
              "   csf_lymph  csf_amt_removed     viralload  artnaive  Label  \n",
              "0        NaN             10.0  1.432357e+06       1.0      0  \n",
              "1        NaN             10.0           NaN       0.0      1  \n",
              "2        NaN             16.0           NaN       1.0      1  \n",
              "3        NaN             16.0           NaN       0.0      1  \n",
              "4        NaN             36.0  6.667831e+05       1.0      1  \n",
              "\n",
              "[5 rows x 28 columns]"
            ]
          },
          "execution_count": 3,
          "metadata": {},
          "output_type": "execute_result"
        }
      ],
      "source": [
        "# load the data: diabetes dataset provided in the repo\n",
        "file_name = \"assignment_data.csv\"\n",
        "data_frame = pd.read_csv(file_name)\n",
        "data_frame.head(5)"
      ]
    },
    {
      "cell_type": "code",
      "execution_count": 4,
      "metadata": {},
      "outputs": [
        {
          "data": {
            "text/plain": [
              "age                float64\n",
              "sex                float64\n",
              "on_art             float64\n",
              "days_art           float64\n",
              "temp               float64\n",
              "gcs                float64\n",
              "weight             float64\n",
              "fever              float64\n",
              "dur_fever          float64\n",
              "headache           float64\n",
              "dur_headache       float64\n",
              "vischange          float64\n",
              "dur_vischange      float64\n",
              "vomit              float64\n",
              "dur_vomit          float64\n",
              "cd4                float64\n",
              "wbc                float64\n",
              "hemoglobin         float64\n",
              "platelets          float64\n",
              "sodium             float64\n",
              "potassium          float64\n",
              "csf_lactate        float64\n",
              "csf_glucose_mg     float64\n",
              "csf_lymph          float64\n",
              "csf_amt_removed    float64\n",
              "viralload          float64\n",
              "artnaive           float64\n",
              "Label                int64\n",
              "dtype: object"
            ]
          },
          "execution_count": 4,
          "metadata": {},
          "output_type": "execute_result"
        }
      ],
      "source": [
        "# Check the data types\n",
        "data_frame.dtypes"
      ]
    },
    {
      "cell_type": "code",
      "execution_count": 5,
      "metadata": {},
      "outputs": [
        {
          "name": "stdout",
          "output_type": "stream",
          "text": [
            "<bound method NDFrame.describe of       age  sex  on_art  days_art       temp  gcs  weight  fever  dur_fever  \\\n",
            "0     0.0  0.0     1.0      22.0        NaN  0.0     0.0    1.0       11.0   \n",
            "1     0.0  1.0     1.0       NaN  35.282291  1.0     1.0    1.0        NaN   \n",
            "2     1.0  0.0     0.0     101.0        NaN  1.0     0.0    0.0        NaN   \n",
            "3     NaN  1.0     0.0       NaN        NaN  1.0     1.0    NaN       14.0   \n",
            "4     NaN  1.0     1.0      49.0        NaN  0.0     0.0    NaN        NaN   \n",
            "...   ...  ...     ...       ...        ...  ...     ...    ...        ...   \n",
            "2495  0.0  0.0     1.0    1533.0        NaN  1.0     1.0    1.0       90.0   \n",
            "2496  NaN  0.0     1.0    1140.0  36.045808  1.0     1.0    NaN        NaN   \n",
            "2497  1.0  0.0     0.0     224.0        NaN  1.0     1.0    NaN        2.0   \n",
            "2498  NaN  0.0     0.0     141.0        NaN  1.0     0.0    NaN       13.0   \n",
            "2499  0.0  0.0     0.0     775.0        NaN  0.0     1.0    NaN        NaN   \n",
            "\n",
            "      headache  ...  platelets  sodium  potassium  csf_lactate  \\\n",
            "0          1.0  ...        1.0   139.0   4.080910          4.8   \n",
            "1          1.0  ...        1.0   135.0   3.220714          NaN   \n",
            "2          0.0  ...        1.0   134.0   5.261970          NaN   \n",
            "3          1.0  ...        1.0   124.0   3.560370          3.0   \n",
            "4          1.0  ...        1.0   128.0   4.394712          3.8   \n",
            "...        ...  ...        ...     ...        ...          ...   \n",
            "2495       1.0  ...        1.0   137.0        NaN          NaN   \n",
            "2496       1.0  ...        0.0   134.0   3.700000          3.2   \n",
            "2497       1.0  ...        1.0   131.0        NaN          2.2   \n",
            "2498       1.0  ...        1.0   133.0        NaN          5.5   \n",
            "2499       1.0  ...        1.0   131.0        NaN          4.8   \n",
            "\n",
            "      csf_glucose_mg  csf_lymph  csf_amt_removed     viralload  artnaive  \\\n",
            "0                1.0        NaN             10.0  1.432357e+06       1.0   \n",
            "1                1.0        NaN             10.0           NaN       0.0   \n",
            "2                1.0        NaN             16.0           NaN       1.0   \n",
            "3                1.0        NaN             16.0           NaN       0.0   \n",
            "4                1.0        NaN             36.0  6.667831e+05       1.0   \n",
            "...              ...        ...              ...           ...       ...   \n",
            "2495             1.0       80.0             21.0           NaN       0.0   \n",
            "2496             1.0        NaN             15.0  3.487425e+04       1.0   \n",
            "2497             1.0       68.0              1.0           NaN       1.0   \n",
            "2498             1.0        NaN             15.0           NaN       1.0   \n",
            "2499             1.0        NaN             31.0           NaN       1.0   \n",
            "\n",
            "      Label  \n",
            "0         0  \n",
            "1         1  \n",
            "2         1  \n",
            "3         1  \n",
            "4         1  \n",
            "...     ...  \n",
            "2495      1  \n",
            "2496      1  \n",
            "2497      1  \n",
            "2498      1  \n",
            "2499      1  \n",
            "\n",
            "[2500 rows x 28 columns]>\n"
          ]
        }
      ],
      "source": [
        "print(data_frame.describe)"
      ]
    },
    {
      "cell_type": "code",
      "execution_count": 6,
      "metadata": {
        "id": "-_nzAit9A60K"
      },
      "outputs": [
        {
          "data": {
            "text/plain": [
              "(2500, 28)"
            ]
          },
          "execution_count": 6,
          "metadata": {},
          "output_type": "execute_result"
        }
      ],
      "source": [
        "# check the dimensions of the data, and explain why this step is important\n",
        "data_frame.shape"
      ]
    },
    {
      "cell_type": "markdown",
      "metadata": {},
      "source": [
        "#### Explanating why checking the dimensions of data is important\n",
        "ITs because of the following reseons\n",
        "\n",
        "1. `Data Integrity:` This ensures that the data is complete and accurate. \n",
        "    The shape of the data gives an idea of how much data is available for analysis. \n",
        "    It helps in detecting any inconsistencies or missing values in the data.\n",
        "\n",
        "2. `Data Preprocessing:` The dimensions of data determine the appropriate preprocessing steps \n",
        "    to apply before building a machine learning model. Steps like data cleaning.\n",
        "\n",
        "3. `Model Training:` Since machine learning models require a certain amount of data to learn \n",
        "    and generalize patterns in the data, checking the dimensions impacts this stage.\n",
        "    If the dataset is too small, the model may not learn the underlying patterns in the data, \n",
        "    and if the dataset is too large, it may lead to overfitting. \n",
        "    \n",
        "4. `Training time estimation:` The dimensions of data have a significant impact \n",
        "    on the training times of machine learning models. \n",
        "    As the size of the dataset increases, the training time of machine learning models also increases."
      ]
    },
    {
      "cell_type": "code",
      "execution_count": 6,
      "metadata": {
        "id": "kIPFwb0SBCHh"
      },
      "outputs": [],
      "source": [
        "#transform the dataset by filling in values that are min = 0 but are not accurate e.g Insulin min=0\n",
        "#chose the best way you think to replace those values, whether with the mean value e.t.c"
      ]
    },
    {
      "cell_type": "code",
      "execution_count": 45,
      "metadata": {},
      "outputs": [
        {
          "data": {
            "text/html": [
              "<div>\n",
              "<style scoped>\n",
              "    .dataframe tbody tr th:only-of-type {\n",
              "        vertical-align: middle;\n",
              "    }\n",
              "\n",
              "    .dataframe tbody tr th {\n",
              "        vertical-align: top;\n",
              "    }\n",
              "\n",
              "    .dataframe thead th {\n",
              "        text-align: right;\n",
              "    }\n",
              "</style>\n",
              "<table border=\"1\" class=\"dataframe\">\n",
              "  <thead>\n",
              "    <tr style=\"text-align: right;\">\n",
              "      <th></th>\n",
              "      <th>age</th>\n",
              "      <th>sex</th>\n",
              "      <th>on_art</th>\n",
              "      <th>days_art</th>\n",
              "      <th>temp</th>\n",
              "      <th>gcs</th>\n",
              "      <th>weight</th>\n",
              "      <th>fever</th>\n",
              "      <th>dur_fever</th>\n",
              "      <th>headache</th>\n",
              "      <th>...</th>\n",
              "      <th>platelets</th>\n",
              "      <th>sodium</th>\n",
              "      <th>potassium</th>\n",
              "      <th>csf_lactate</th>\n",
              "      <th>csf_glucose_mg</th>\n",
              "      <th>csf_lymph</th>\n",
              "      <th>csf_amt_removed</th>\n",
              "      <th>viralload</th>\n",
              "      <th>artnaive</th>\n",
              "      <th>Label</th>\n",
              "    </tr>\n",
              "  </thead>\n",
              "  <tbody>\n",
              "    <tr>\n",
              "      <th>0</th>\n",
              "      <td>0.0</td>\n",
              "      <td>0.0</td>\n",
              "      <td>1.0</td>\n",
              "      <td>22.0</td>\n",
              "      <td>36.786191</td>\n",
              "      <td>0.0</td>\n",
              "      <td>0.0</td>\n",
              "      <td>1.0</td>\n",
              "      <td>11.000000</td>\n",
              "      <td>1.0</td>\n",
              "      <td>...</td>\n",
              "      <td>1.0</td>\n",
              "      <td>139.0</td>\n",
              "      <td>4.080910</td>\n",
              "      <td>4.8</td>\n",
              "      <td>1.0</td>\n",
              "      <td>75.184532</td>\n",
              "      <td>10.0</td>\n",
              "      <td>1.432357e+06</td>\n",
              "      <td>1.0</td>\n",
              "      <td>0</td>\n",
              "    </tr>\n",
              "    <tr>\n",
              "      <th>1</th>\n",
              "      <td>0.0</td>\n",
              "      <td>1.0</td>\n",
              "      <td>1.0</td>\n",
              "      <td>0.0</td>\n",
              "      <td>35.282291</td>\n",
              "      <td>1.0</td>\n",
              "      <td>1.0</td>\n",
              "      <td>1.0</td>\n",
              "      <td>26.432129</td>\n",
              "      <td>1.0</td>\n",
              "      <td>...</td>\n",
              "      <td>1.0</td>\n",
              "      <td>135.0</td>\n",
              "      <td>3.220714</td>\n",
              "      <td>1.0</td>\n",
              "      <td>1.0</td>\n",
              "      <td>75.184532</td>\n",
              "      <td>10.0</td>\n",
              "      <td>3.545953e+05</td>\n",
              "      <td>0.0</td>\n",
              "      <td>1</td>\n",
              "    </tr>\n",
              "    <tr>\n",
              "      <th>2</th>\n",
              "      <td>1.0</td>\n",
              "      <td>0.0</td>\n",
              "      <td>0.0</td>\n",
              "      <td>101.0</td>\n",
              "      <td>36.786191</td>\n",
              "      <td>1.0</td>\n",
              "      <td>0.0</td>\n",
              "      <td>0.0</td>\n",
              "      <td>26.432129</td>\n",
              "      <td>0.0</td>\n",
              "      <td>...</td>\n",
              "      <td>1.0</td>\n",
              "      <td>134.0</td>\n",
              "      <td>5.261970</td>\n",
              "      <td>1.0</td>\n",
              "      <td>1.0</td>\n",
              "      <td>75.184532</td>\n",
              "      <td>16.0</td>\n",
              "      <td>3.545953e+05</td>\n",
              "      <td>1.0</td>\n",
              "      <td>1</td>\n",
              "    </tr>\n",
              "    <tr>\n",
              "      <th>3</th>\n",
              "      <td>0.0</td>\n",
              "      <td>1.0</td>\n",
              "      <td>0.0</td>\n",
              "      <td>0.0</td>\n",
              "      <td>36.786191</td>\n",
              "      <td>1.0</td>\n",
              "      <td>1.0</td>\n",
              "      <td>0.0</td>\n",
              "      <td>14.000000</td>\n",
              "      <td>1.0</td>\n",
              "      <td>...</td>\n",
              "      <td>1.0</td>\n",
              "      <td>124.0</td>\n",
              "      <td>3.560370</td>\n",
              "      <td>3.0</td>\n",
              "      <td>1.0</td>\n",
              "      <td>75.184532</td>\n",
              "      <td>16.0</td>\n",
              "      <td>3.545953e+05</td>\n",
              "      <td>0.0</td>\n",
              "      <td>1</td>\n",
              "    </tr>\n",
              "    <tr>\n",
              "      <th>4</th>\n",
              "      <td>0.0</td>\n",
              "      <td>1.0</td>\n",
              "      <td>1.0</td>\n",
              "      <td>49.0</td>\n",
              "      <td>36.786191</td>\n",
              "      <td>0.0</td>\n",
              "      <td>0.0</td>\n",
              "      <td>0.0</td>\n",
              "      <td>26.432129</td>\n",
              "      <td>1.0</td>\n",
              "      <td>...</td>\n",
              "      <td>1.0</td>\n",
              "      <td>128.0</td>\n",
              "      <td>4.394712</td>\n",
              "      <td>3.8</td>\n",
              "      <td>1.0</td>\n",
              "      <td>75.184532</td>\n",
              "      <td>36.0</td>\n",
              "      <td>6.667831e+05</td>\n",
              "      <td>1.0</td>\n",
              "      <td>1</td>\n",
              "    </tr>\n",
              "  </tbody>\n",
              "</table>\n",
              "<p>5 rows × 28 columns</p>\n",
              "</div>"
            ],
            "text/plain": [
              "   age  sex  on_art  days_art       temp  gcs  weight  fever  dur_fever  \\\n",
              "0  0.0  0.0     1.0      22.0  36.786191  0.0     0.0    1.0  11.000000   \n",
              "1  0.0  1.0     1.0       0.0  35.282291  1.0     1.0    1.0  26.432129   \n",
              "2  1.0  0.0     0.0     101.0  36.786191  1.0     0.0    0.0  26.432129   \n",
              "3  0.0  1.0     0.0       0.0  36.786191  1.0     1.0    0.0  14.000000   \n",
              "4  0.0  1.0     1.0      49.0  36.786191  0.0     0.0    0.0  26.432129   \n",
              "\n",
              "   headache  ...  platelets  sodium  potassium  csf_lactate  csf_glucose_mg  \\\n",
              "0       1.0  ...        1.0   139.0   4.080910          4.8             1.0   \n",
              "1       1.0  ...        1.0   135.0   3.220714          1.0             1.0   \n",
              "2       0.0  ...        1.0   134.0   5.261970          1.0             1.0   \n",
              "3       1.0  ...        1.0   124.0   3.560370          3.0             1.0   \n",
              "4       1.0  ...        1.0   128.0   4.394712          3.8             1.0   \n",
              "\n",
              "   csf_lymph  csf_amt_removed     viralload  artnaive  Label  \n",
              "0  75.184532             10.0  1.432357e+06       1.0      0  \n",
              "1  75.184532             10.0  3.545953e+05       0.0      1  \n",
              "2  75.184532             16.0  3.545953e+05       1.0      1  \n",
              "3  75.184532             16.0  3.545953e+05       0.0      1  \n",
              "4  75.184532             36.0  6.667831e+05       1.0      1  \n",
              "\n",
              "[5 rows x 28 columns]"
            ]
          },
          "execution_count": 45,
          "metadata": {},
          "output_type": "execute_result"
        }
      ],
      "source": [
        "# create a copy of the original dataset with a new name\n",
        "transformed_data = data_frame.copy()\n",
        "# Drop duplicates and fill NaN values with zero\n",
        "transformed_data.drop_duplicates(transformed_data)\n",
        "transformed_data = transformed_data.fillna(0)\n",
        "\n",
        "# replace the 0 values with the mean of non-zero values in the temp column\n",
        "temp_mean = transformed_data[transformed_data[\"temp\"] != 0][\"temp\"].mean()\n",
        "transformed_data[\"temp\"] = transformed_data[\"temp\"].replace(0, temp_mean)\n",
        "\n",
        "# replace the 0 values with the mean of non-zero values in the dur_fever column\n",
        "dfever_mean = transformed_data[transformed_data[\"dur_fever\"] != 0][\"dur_fever\"].mean()\n",
        "transformed_data[\"dur_fever\"] = transformed_data[\"dur_fever\"].replace(0, dfever_mean)\n",
        "\n",
        "# replace the 0 values with the mean of non-zero values in the dur_headache column\n",
        "dheadeche_mean = transformed_data[transformed_data[\"dur_headache\"] != 0][\"dur_headache\"].mean()\n",
        "transformed_data[\"dur_headache\"] = transformed_data[\"dur_headache\"].replace(0, dheadeche_mean)\n",
        "\n",
        "# replace the 0 values with the mean of non-zero values in the csf_lymph column\n",
        "lymph_mean = transformed_data[transformed_data[\"csf_lymph\"] != 0][\"csf_lymph\"].mean()\n",
        "transformed_data[\"csf_lymph\"] = transformed_data[\"csf_lymph\"].replace(0, lymph_mean)\n",
        "\n",
        "# replace the 0 values with the mean of non-zero values in the potassium column\n",
        "potassium_mean = transformed_data[transformed_data[\"potassium\"] != 0][\"potassium\"].mean()\n",
        "transformed_data[\"potassium\"] = transformed_data[\"potassium\"].replace(0, potassium_mean)\n",
        "\n",
        "# replace the 0 values with 1 in the csf_glucose_mg column\n",
        "transformed_data[\"csf_glucose_mg\"] = transformed_data[\"csf_glucose_mg\"].replace(0, 1)\n",
        "\n",
        "# replace the 0 values with 1 in the csf_lactate column\n",
        "transformed_data[\"csf_lactate\"] = transformed_data[\"csf_lactate\"].replace(0, 1)\n",
        "\n",
        "# replace the 0 values with the mean of non-zero values in the viralload column\n",
        "viralload_mean = transformed_data[transformed_data[\"viralload\"] != 0][\"viralload\"].mean()\n",
        "transformed_data[\"viralload\"] = transformed_data[\"viralload\"].replace(0, viralload_mean)\n",
        "\n",
        "transformed_data.head(5)"
      ]
    },
    {
      "cell_type": "code",
      "execution_count": 8,
      "metadata": {},
      "outputs": [
        {
          "name": "stdout",
          "output_type": "stream",
          "text": [
            "               age          sex       on_art     days_art         temp  \\\n",
            "count  2500.000000  2500.000000  2500.000000  2500.000000  2500.000000   \n",
            "mean      0.197600     0.524000     0.431600   466.630000    36.786191   \n",
            "std       0.398268     0.499524     0.495398   838.328478     0.830212   \n",
            "min       0.000000     0.000000     0.000000     0.000000    34.108662   \n",
            "25%       0.000000     0.000000     0.000000     0.000000    36.786191   \n",
            "50%       0.000000     1.000000     0.000000    10.000000    36.786191   \n",
            "75%       0.000000     1.000000     1.000000   577.000000    36.786191   \n",
            "max       1.000000     1.000000     1.000000  4199.000000    39.497840   \n",
            "\n",
            "               gcs       weight        fever    dur_fever     headache  ...  \\\n",
            "count  2500.000000  2500.000000  2500.000000  2500.000000  2500.000000  ...   \n",
            "mean      0.712000     0.616000     0.358000    26.432129     0.902800  ...   \n",
            "std       0.452922     0.486455     0.479508    17.823795     0.296289  ...   \n",
            "min       0.000000     0.000000     0.000000     1.000000     0.000000  ...   \n",
            "25%       0.000000     0.000000     0.000000    17.000000     1.000000  ...   \n",
            "50%       1.000000     1.000000     0.000000    26.432129     1.000000  ...   \n",
            "75%       1.000000     1.000000     1.000000    26.432129     1.000000  ...   \n",
            "max       1.000000     1.000000     1.000000    99.000000     1.000000  ...   \n",
            "\n",
            "         platelets       sodium    potassium  csf_lactate  csf_glucose_mg  \\\n",
            "count  2500.000000  2500.000000  2500.000000  2500.000000     2500.000000   \n",
            "mean      0.829200   130.610800     4.059963     3.195400        0.998800   \n",
            "std       0.376409     7.581657     0.549971     2.208262        0.034627   \n",
            "min       0.000000     0.000000     2.414718     1.000000        0.000000   \n",
            "25%       1.000000   127.000000     3.827249     1.000000        1.000000   \n",
            "50%       1.000000   130.000000     4.059963     3.100000        1.000000   \n",
            "75%       1.000000   135.000000     4.267007     4.600000        1.000000   \n",
            "max       1.000000   148.000000     6.594044    10.100000        1.000000   \n",
            "\n",
            "         csf_lymph  csf_amt_removed     viralload     artnaive        Label  \n",
            "count  2500.000000      2500.000000  2.500000e+03  2500.000000  2500.000000  \n",
            "mean     75.184532        14.584000  3.545953e+05     0.539200     0.840400  \n",
            "std      15.465355         8.838585  3.753048e+05     0.498561     0.366308  \n",
            "min       2.000000         0.000000  5.245102e+00     0.000000     0.000000  \n",
            "25%      70.000000         8.000000  2.002692e+05     0.000000     1.000000  \n",
            "50%      75.184532        12.000000  3.545953e+05     1.000000     1.000000  \n",
            "75%      79.000000        20.000000  3.545953e+05     1.000000     1.000000  \n",
            "max     100.000000        49.000000  2.987758e+06     1.000000     1.000000  \n",
            "\n",
            "[8 rows x 28 columns]\n"
          ]
        }
      ],
      "source": [
        "print(transformed_data.describe())"
      ]
    },
    {
      "cell_type": "code",
      "execution_count": null,
      "metadata": {
        "id": "7AAPPovwBcGO"
      },
      "outputs": [],
      "source": [
        "#install missingno\n",
        "%pip install missingno"
      ]
    },
    {
      "cell_type": "code",
      "execution_count": 46,
      "metadata": {
        "id": "mTw5jy8pBeeL"
      },
      "outputs": [
        {
          "data": {
            "text/plain": [
              "<Axes: >"
            ]
          },
          "execution_count": 46,
          "metadata": {},
          "output_type": "execute_result"
        },
        {
          "data": {
            "image/png": "[encoded data removed]",
            "text/plain": [
              "<Figure size 2500x1000 with 2 Axes>"
            ]
          },
          "metadata": {},
          "output_type": "display_data"
        }
      ],
      "source": [
        "# plot the missingness matrix with missingno\n",
        "import missingno as msno\n",
        "# ploting missingness matrix with missingno\n",
        "msno.matrix(transformed_data)"
      ]
    },
    {
      "cell_type": "code",
      "execution_count": null,
      "metadata": {
        "id": "amB1J_ViBWft"
      },
      "outputs": [],
      "source": [
        "#install pandas profiling\n",
        "%pip install ydata-profiling"
      ]
    },
    {
      "cell_type": "code",
      "execution_count": 47,
      "metadata": {
        "id": "RFyCUvhWBY5t"
      },
      "outputs": [
        {
          "data": {
            "application/vnd.jupyter.widget-view+json": {
              "model_id": "287389f717284fe2afb0f181c6888bf2",
              "version_major": 2,
              "version_minor": 0
            },
            "text/plain": [
              "Summarize dataset:   0%|          | 0/5 [00:00<?, ?it/s]"
            ]
          },
          "metadata": {},
          "output_type": "display_data"
        },
        {
          "data": {
            "application/vnd.jupyter.widget-view+json": {
              "model_id": "4fe4e6c88a3946e5a0c7c9ef33c77690",
              "version_major": 2,
              "version_minor": 0
            },
            "text/plain": [
              "Generate report structure:   0%|          | 0/1 [00:00<?, ?it/s]"
            ]
          },
          "metadata": {},
          "output_type": "display_data"
        },
        {
          "data": {
            "application/vnd.jupyter.widget-view+json": {
              "model_id": "45e591727bba4746a3528aaec5e4663a",
              "version_major": 2,
              "version_minor": 0
            },
            "text/plain": [
              "Render HTML:   0%|          | 0/1 [00:00<?, ?it/s]"
            ]
          },
          "metadata": {},
          "output_type": "display_data"
        },
        {
          "data": {
            "application/vnd.jupyter.widget-view+json": {
              "model_id": "67e8c3ec003646bc991fe7adf2ef478f",
              "version_major": 2,
              "version_minor": 0
            },
            "text/plain": [
              "Export report to file:   0%|          | 0/1 [00:00<?, ?it/s]"
            ]
          },
          "metadata": {},
          "output_type": "display_data"
        }
      ],
      "source": [
        "# export an html report for your profiling\n",
        "\n",
        "from ydata_profiling import profile_report\n",
        "# create an EDA report using pandas profiling\n",
        "profile = transformed_data.profile_report()\n",
        "profile.to_file(output_file=\"assignment_eda_report.html\")"
      ]
    },
    {
      "cell_type": "code",
      "execution_count": null,
      "metadata": {
        "id": "gcDHpdyjB07o"
      },
      "outputs": [],
      "source": [
        "#install seaborn and plot at least 2-3 variables of your choice\n",
        "\n",
        "#after plotting explain what the plot is communicating."
      ]
    },
    {
      "cell_type": "code",
      "execution_count": null,
      "metadata": {},
      "outputs": [],
      "source": [
        "# Install Seaborb\n",
        "%pip install seaborn"
      ]
    },
    {
      "cell_type": "code",
      "execution_count": 11,
      "metadata": {},
      "outputs": [
        {
          "data": {
            "text/plain": [
              "<Axes: xlabel='dur_vomit', ylabel='dur_headache'>"
            ]
          },
          "execution_count": 11,
          "metadata": {},
          "output_type": "execute_result"
        },
        {
          "data": {
            "image/png": "[encoded data removed]",
            "text/plain": [
              "<Figure size 640x480 with 1 Axes>"
            ]
          },
          "metadata": {},
          "output_type": "display_data"
        }
      ],
      "source": [
        "# Import Seaborn\n",
        "import seaborn as sns\n",
        "# import matplotlib.pyplot as plt\n",
        "sns.scatterplot(transformed_data, x=\"dur_vomit\", y=\"dur_headache\", hue=\"temp\")"
      ]
    },
    {
      "cell_type": "markdown",
      "metadata": {},
      "source": [
        "The graph shows that the duration of headache is high in the first days of vomiting with high temperature.\n",
        "And as the duration of vomiting increases, both headache and temperature reduces."
      ]
    },
    {
      "cell_type": "code",
      "execution_count": 12,
      "metadata": {},
      "outputs": [
        {
          "data": {
            "text/plain": [
              "<Axes: xlabel='temp', ylabel='dur_fever'>"
            ]
          },
          "execution_count": 12,
          "metadata": {},
          "output_type": "execute_result"
        },
        {
          "data": {
            "image/png": "[encoded data removed]",
            "text/plain": [
              "<Figure size 640x480 with 1 Axes>"
            ]
          },
          "metadata": {},
          "output_type": "display_data"
        }
      ],
      "source": [
        "sns.scatterplot(transformed_data, x=\"temp\", y=\"dur_fever\")"
      ]
    },
    {
      "cell_type": "markdown",
      "metadata": {},
      "source": [
        "The scatterplot of duration of fever against temperature has no correlation. "
      ]
    },
    {
      "cell_type": "markdown",
      "metadata": {
        "id": "roPBR22KNeYH"
      },
      "source": [
        "#Further exercises\n",
        "\n",
        "Model spot checking,\n",
        "- I would like for you to choose up to 20 diferent models for classification in the sklearn library and add them in the code below\n",
        "- The idea is to evaluate as many as possible, you can add even more of those.\n",
        "- run them through the code below and then find the ones that might work well with your data."
      ]
    },
    {
      "cell_type": "code",
      "execution_count": 82,
      "metadata": {},
      "outputs": [
        {
          "name": "stdout",
          "output_type": "stream",
          "text": [
            "   Model  F1 Score    Recall  Precision       MCC\n",
            "0     LR  0.912912  0.999065   0.840623  0.005901\n",
            "1    LDA  0.909103  0.986659   0.843050  0.051547\n",
            "2    KNN  0.898637  0.969596   0.837627 -0.045195\n",
            "3   CART  0.838862  0.828270   0.850486  0.058642\n",
            "4     NB  0.907422  0.988127   0.839140 -0.026778\n",
            "5    SVM  0.913179  1.000000   0.840400  0.000000\n",
            "6     RF  0.912609  0.998053   0.840784  0.011648\n",
            "7     GB  0.907406  0.983319   0.842548  0.047217\n",
            "8    ADA  0.904638  0.974304   0.844492  0.058548\n",
            "9     BC  0.889483  0.932858   0.850273  0.096192\n",
            "10   ETC  0.908992  0.990406   0.840071 -0.013858\n",
            "11   MLP  0.906338  0.984355   0.840008 -0.010552\n",
            "12   RFR       NaN       NaN        NaN       NaN\n",
            "13   GBR       NaN       NaN        NaN       NaN\n",
            "14    RC  0.912950  0.999541   0.840349 -0.002428\n",
            "15   SGD  0.912121  0.996682   0.840988  0.014856\n"
          ]
        }
      ],
      "source": [
        "import pandas as pd\n",
        "import numpy as np\n",
        "from sklearn.model_selection import KFold, cross_validate\n",
        "from sklearn.linear_model import LogisticRegression\n",
        "from sklearn.tree import DecisionTreeClassifier\n",
        "from sklearn.neighbors import KNeighborsClassifier\n",
        "from sklearn.discriminant_analysis import LinearDiscriminantAnalysis\n",
        "from sklearn.naive_bayes import GaussianNB\n",
        "from sklearn.svm import SVC\n",
        "from sklearn.ensemble import (\n",
        "    RandomForestClassifier,\n",
        "    GradientBoostingClassifier,\n",
        "    AdaBoostClassifier,\n",
        "    BaggingClassifier,\n",
        "    ExtraTreesClassifier,\n",
        "    VotingClassifier,  # New import for adding more models\n",
        ")\n",
        "from sklearn.neural_network import MLPClassifier  # New import for adding more models\n",
        "from sklearn.ensemble import RandomForestRegressor  # New import for adding more models\n",
        "from sklearn.ensemble import (\n",
        "    GradientBoostingRegressor,\n",
        ")  # New import for adding more models\n",
        "from sklearn.linear_model import RidgeClassifier  # New import for adding more models\n",
        "from sklearn.linear_model import SGDClassifier  # New import for adding more models\n",
        "\n",
        "from sklearn.metrics import (\n",
        "    make_scorer,\n",
        "    precision_score,\n",
        "    recall_score,\n",
        "    f1_score,\n",
        "    matthews_corrcoef,\n",
        ")\n",
        "\n",
        "dataframe = transformed_data\n",
        "\n",
        "# Split the dataset\n",
        "X = dataframe.iloc[:, 0:27]\n",
        "Y = dataframe.iloc[:, 27]\n",
        "\n",
        "# Prepare models\n",
        "models = [\n",
        "    (\"LR\", LogisticRegression(max_iter=1000)),\n",
        "    (\"LDA\", LinearDiscriminantAnalysis()),\n",
        "    (\"KNN\", KNeighborsClassifier()),\n",
        "    (\"CART\", DecisionTreeClassifier()),\n",
        "    (\"NB\", GaussianNB()),\n",
        "    (\"SVM\", SVC(probability=True)),  # Enable probability for SVC to calculate MCC\n",
        "    (\"RF\", RandomForestClassifier()),\n",
        "    (\"GB\", GradientBoostingClassifier()),\n",
        "    (\"ADA\", AdaBoostClassifier()),\n",
        "    (\"BC\", BaggingClassifier()),\n",
        "    (\"ETC\", ExtraTreesClassifier()),\n",
        "    (\"MLP\", MLPClassifier()),\n",
        "    (\"RFR\", RandomForestRegressor()),  # Regression model\n",
        "    (\"GBR\", GradientBoostingRegressor()),  # Regression model\n",
        "    (\"RC\", RidgeClassifier()),  # Classification model\n",
        "    (\"SGD\", SGDClassifier()),  # Classification model\n",
        "]\n",
        "\n",
        "# Scoring metrics\n",
        "scoring = {\n",
        "    \"f1\": make_scorer(f1_score),\n",
        "    \"recall\": make_scorer(recall_score),\n",
        "    \"precision\": make_scorer(precision_score),\n",
        "    \"MCC\": make_scorer(matthews_corrcoef),\n",
        "}\n",
        "\n",
        "# Evaluate models function\n",
        "def evaluate_models(models, X, Y, scoring, n_splits=10, random_seed=7):\n",
        "    scores = []\n",
        "    for name, model in models:\n",
        "        kfold = KFold(n_splits=n_splits, random_state=random_seed, shuffle=True)\n",
        "        cv_results = cross_validate(model, X, Y, cv=kfold, scoring=scoring)\n",
        "        scores.append(\n",
        "            {\n",
        "                \"Model\": name,\n",
        "                \"F1 Score\": np.mean(cv_results[\"test_f1\"]),\n",
        "                \"Recall\": np.mean(cv_results[\"test_recall\"]),\n",
        "                \"Precision\": np.mean(cv_results[\"test_precision\"]),\n",
        "                \"MCC\": np.mean(cv_results[\"test_MCC\"]),\n",
        "            }\n",
        "        )\n",
        "    return pd.DataFrame(scores)\n",
        "\n",
        "\n",
        "# Evaluation\n",
        "model_scores = evaluate_models(models, X, Y, scoring)\n",
        "\n",
        "# Display the consolidated scores\n",
        "print(model_scores)"
      ]
    },
    {
      "cell_type": "code",
      "execution_count": null,
      "metadata": {
        "id": "MLDAD91IRCy9"
      },
      "outputs": [],
      "source": [
        "#chose your best model and train the model based on the example in the code\n",
        "#For this cell let the parameters in your first model be on default"
      ]
    },
    {
      "cell_type": "code",
      "execution_count": 84,
      "metadata": {},
      "outputs": [
        {
          "name": "stdout",
          "output_type": "stream",
          "text": [
            "Accuracy: 0.838\n"
          ]
        }
      ],
      "source": [
        "from sklearn.model_selection import train_test_split\n",
        "from sklearn.metrics import accuracy_score\n",
        "\n",
        "# Split the dataset into training and testing sets\n",
        "X_train, X_test, Y_train, Y_test = train_test_split(\n",
        "    X, Y, test_size=0.2, random_state=42\n",
        ")\n",
        "\n",
        "# Initialize the AdaBoost Classifier with default parameters\n",
        "model = AdaBoostClassifier()\n",
        "\n",
        "# Train the model\n",
        "model.fit(X_train, Y_train)\n",
        "\n",
        "# Make predictions on the test set\n",
        "Y_pred = model.predict(X_test)\n",
        "\n",
        "# Calculate accuracy\n",
        "accuracy = accuracy_score(Y_test, Y_pred)\n",
        "\n",
        "print(\"Accuracy:\", accuracy)"
      ]
    },
    {
      "cell_type": "code",
      "execution_count": null,
      "metadata": {
        "id": "n-FrvukcRL81"
      },
      "outputs": [],
      "source": [
        "#update the parameters as you see fit and record your results\n",
        "#you can run as many examples as possible."
      ]
    },
    {
      "cell_type": "code",
      "execution_count": 85,
      "metadata": {},
      "outputs": [
        {
          "name": "stdout",
          "output_type": "stream",
          "text": [
            "Configuration 1: Accuracy - 0.86\n",
            "Configuration 2: Accuracy - 0.848\n",
            "Configuration 3: Accuracy - 0.858\n",
            "Configuration 4: Accuracy - 0.838\n"
          ]
        }
      ],
      "source": [
        "# Define parameter configurations to try AdaBoostClassifier with adjusted parameters\n",
        "parameters = [\n",
        "    {\n",
        "        \"n_estimators\": 50,\n",
        "        \"learning_rate\": 0.1,\n",
        "        \"random_state\": 42,\n",
        "    },  # Default parameters\n",
        "    {\n",
        "        \"n_estimators\": 100,\n",
        "        \"learning_rate\": 0.5,\n",
        "        \"random_state\": 42,\n",
        "    },  # Increased n_estimators and learning_rate\n",
        "    {\n",
        "        \"n_estimators\": 200,\n",
        "        \"learning_rate\": 0.1,\n",
        "        \"random_state\": 42,\n",
        "    },  # Increased n_estimators\n",
        "    {\n",
        "        \"n_estimators\": 50,\n",
        "        \"learning_rate\": 1.0,\n",
        "        \"random_state\": 42,\n",
        "    },  # Increased learning_rate\n",
        "]\n",
        "\n",
        "# Train and evaluate the model for each parameter configuration\n",
        "for i, param_config in enumerate(parameters):\n",
        "    # Initialize the AdaBoost Classifier model with current parameters\n",
        "    model = AdaBoostClassifier(**param_config)\n",
        "\n",
        "    # Train the model\n",
        "    model.fit(X_train, Y_train)\n",
        "\n",
        "    # Make predictions on the test set\n",
        "    Y_pred = model.predict(X_test)\n",
        "\n",
        "    # Calculate accuracy\n",
        "    accuracy = accuracy_score(Y_test, Y_pred)\n",
        "\n",
        "    # Record the accuracy for the current configuration\n",
        "    results[f\"Configuration {i+1}\"] = accuracy\n",
        "\n",
        "# Display the recorded results\n",
        "for config, accuracy in results.items():\n",
        "    print(f\"{config}: Accuracy - {accuracy}\")"
      ]
    },
    {
      "cell_type": "code",
      "execution_count": null,
      "metadata": {
        "id": "x_41pqHCRSf_"
      },
      "outputs": [],
      "source": [
        "#Try another model of your choice and repeate the same steps as above."
      ]
    },
    {
      "cell_type": "code",
      "execution_count": 104,
      "metadata": {},
      "outputs": [
        {
          "name": "stdout",
          "output_type": "stream",
          "text": [
            "Accuracy: 0.858\n"
          ]
        }
      ],
      "source": [
        "# Initialize the logistic regression model with defaults\n",
        "logistic_regression_model = LogisticRegression(max_iter=1000, random_state=42)\n",
        "\n",
        "# Train the model on the training data\n",
        "logistic_regression_model.fit(X_train, Y_train)\n",
        "\n",
        "# Make predictions on the test set\n",
        "Y_pred = logistic_regression_model.predict(X_test)\n",
        "\n",
        "# Evaluate the model's performance\n",
        "accuracy = accuracy_score(Y_test, Y_pred)\n",
        "\n",
        "# Display the evaluation results\n",
        "print(f\"Accuracy: {accuracy}\")"
      ]
    },
    {
      "cell_type": "code",
      "execution_count": 103,
      "metadata": {},
      "outputs": [
        {
          "name": "stdout",
          "output_type": "stream",
          "text": [
            "Configuration 1: Accuracy - 0.8600\n",
            "Configuration 2: Accuracy - 0.8600\n",
            "Configuration 3: Accuracy - 0.8600\n",
            "Configuration 4: Accuracy - 0.8580\n"
          ]
        }
      ],
      "source": [
        "# Define parameter configurations to try\n",
        "param_configs = [\n",
        "    {\n",
        "        \"C\": 0.1,  # Stronger regularization\n",
        "        \"penalty\": \"l2\",\n",
        "        \"solver\": \"liblinear\",\n",
        "        \"max_iter\": 1000,\n",
        "        \"tol\": 1e-4,\n",
        "        \"class_weight\": None,\n",
        "        \"multi_class\": \"auto\",\n",
        "    },\n",
        "    {\n",
        "        \"C\": 1.0,  # Default regularization\n",
        "        \"penalty\": \"l2\",\n",
        "        \"solver\": \"liblinear\",\n",
        "        \"max_iter\": 1000,\n",
        "        \"tol\": 1e-4,\n",
        "        \"class_weight\": None,\n",
        "        \"multi_class\": \"auto\",\n",
        "    },\n",
        "    {\n",
        "        \"C\": 10.0,  # Weaker regularization\n",
        "        \"penalty\": \"l2\",\n",
        "        \"solver\": \"liblinear\",\n",
        "        \"max_iter\": 1000,\n",
        "        \"tol\": 1e-4,\n",
        "        \"class_weight\": None,\n",
        "        \"multi_class\": \"auto\",\n",
        "    },\n",
        "    {\n",
        "        \"C\": 1.0,  # Custom configuration with solver 'lbfgs'\n",
        "        \"penalty\": \"l2\",\n",
        "        \"solver\": \"lbfgs\",\n",
        "        \"max_iter\": 1000,\n",
        "        \"tol\": 1e-4,\n",
        "        \"class_weight\": None,\n",
        "        \"multi_class\": \"auto\",\n",
        "    },\n",
        "]\n",
        "\n",
        "# Initialize a list to store evaluation results\n",
        "results = []\n",
        "\n",
        "# Iterate through each configuration\n",
        "for i, config in enumerate(param_configs):\n",
        "    # Initialize the logistic regression model with the current configuration\n",
        "    logistic_regression_model = LogisticRegression(**config, random_state=42)\n",
        "\n",
        "    # Train the model on the training data\n",
        "    logistic_regression_model.fit(X_train, Y_train)\n",
        "\n",
        "    # Make predictions on the test set\n",
        "    Y_pred = logistic_regression_model.predict(X_test)\n",
        "\n",
        "    # Evaluate the model's performance\n",
        "    accuracy = accuracy_score(Y_test, Y_pred)\n",
        "    f1 = f1_score(Y_test, Y_pred)\n",
        "    precision = precision_score(Y_test, Y_pred)\n",
        "    recall = recall_score(Y_test, Y_pred)\n",
        "    mcc = matthews_corrcoef(Y_test, Y_pred)\n",
        "\n",
        "    # Store the results for the current configuration\n",
        "    results.append(\n",
        "        {\n",
        "            \"Configuration\": f\"Config {i + 1}\",\n",
        "            \"C\": config[\"C\"],\n",
        "            \"Solver\": config[\"solver\"],\n",
        "            \"Accuracy\": accuracy,\n",
        "            \"F1 Score\": f1,\n",
        "            \"Precision\": precision,\n",
        "            \"Recall\": recall,\n",
        "            \"MCC\": mcc,\n",
        "        }\n",
        "    )\n",
        "\n",
        "# Iterate through each configuration\n",
        "for i, config in enumerate(param_configs):\n",
        "    # Initialize the logistic regression model with the current configuration\n",
        "    logistic_regression_model = LogisticRegression(**config, random_state=42)\n",
        "\n",
        "    # Train the model on the training data\n",
        "    logistic_regression_model.fit(X_train, Y_train)\n",
        "\n",
        "    # Make predictions on the test set\n",
        "    Y_pred = logistic_regression_model.predict(X_test)\n",
        "\n",
        "    # Evaluate the model's performance (accuracy)\n",
        "    accuracy = accuracy_score(Y_test, Y_pred)\n",
        "\n",
        "    # Print the configuration number and accuracy\n",
        "    print(f\"Configuration {i + 1}: Accuracy - {accuracy:.4f}\")"
      ]
    },
    {
      "cell_type": "code",
      "execution_count": 86,
      "metadata": {},
      "outputs": [
        {
          "name": "stdout",
          "output_type": "stream",
          "text": [
            "Accuracy: 0.838\n"
          ]
        }
      ],
      "source": [
        "# Initialize the K-Nearest Neighbors (KNN) classifier with default parameters\n",
        "model = KNeighborsClassifier()\n",
        "\n",
        "# Train the model\n",
        "model.fit(X_train, Y_train)\n",
        "\n",
        "# Make predictions on the test set\n",
        "Y_pred = model.predict(X_test)\n",
        "\n",
        "# Calculate accuracy\n",
        "accuracy = accuracy_score(Y_test, Y_pred)\n",
        "\n",
        "print(\"Accuracy:\", accuracy)"
      ]
    },
    {
      "cell_type": "code",
      "execution_count": 87,
      "metadata": {},
      "outputs": [
        {
          "name": "stdout",
          "output_type": "stream",
          "text": [
            "Configuration 1: Accuracy - 0.812\n",
            "Configuration 2: Accuracy - 0.838\n",
            "Configuration 3: Accuracy - 0.842\n",
            "Configuration 4: Accuracy - 0.852\n"
          ]
        }
      ],
      "source": [
        "# Define parameter configurations to try KNeighborsClassifier with adjusted parameters\n",
        "parameters = [\n",
        "    {\n",
        "        \"n_neighbors\": 3,  # Default n_neighbors\n",
        "        \"weights\": \"uniform\",  # Default weights\n",
        "    },\n",
        "    {\n",
        "        \"n_neighbors\": 5,\n",
        "        \"weights\": \"uniform\",\n",
        "    },\n",
        "    {\n",
        "        \"n_neighbors\": 7,\n",
        "        \"weights\": \"distance\",  # Use distance weighting\n",
        "    },\n",
        "    {\n",
        "        \"n_neighbors\": 9,\n",
        "        \"weights\": \"uniform\",\n",
        "    },\n",
        "]\n",
        "\n",
        "# Train and evaluate the model for each parameter configuration\n",
        "for i, param_config in enumerate(parameters):\n",
        "    # Initialize the KNeighborsClassifier model with current parameters\n",
        "    model = KNeighborsClassifier(**param_config)\n",
        "\n",
        "    # Train the model\n",
        "    model.fit(X_train, Y_train)\n",
        "\n",
        "    # Make predictions on the test set\n",
        "    Y_pred = model.predict(X_test)\n",
        "\n",
        "    # Calculate accuracy\n",
        "    accuracy = accuracy_score(Y_test, Y_pred)\n",
        "\n",
        "    # Record the accuracy for the current configuration\n",
        "    results[f\"Configuration {i+1}\"] = accuracy\n",
        "\n",
        "# Display the recorded results\n",
        "for config, accuracy in results.items():\n",
        "    print(f\"{config}: Accuracy - {accuracy}\")"
      ]
    },
    {
      "cell_type": "markdown",
      "metadata": {
        "id": "R8oIHcfWRZ3K"
      },
      "source": [
        "Report:\n",
        "- Write your discoveries in detail and what you have learnt below.\n",
        "- Be as detailed as possible, this is very important."
      ]
    },
    {
      "cell_type": "markdown",
      "metadata": {},
      "source": [
        "Different machine learning models exhibit varying performance depending on the dataset. \n",
        "\n",
        "Performance metrics such as accuracy, F1 score, precision, recall, and Matthews correlation coefficient provide a comprehensive view of how well a model performs.\n",
        "\n",
        "Tuning parameters can significantly impact the model's performance. Like for Linear Regression tuning parameters like C (regularization strength), solver (optimization algorithm), and penalty (regularization type) significantly impacts the model's performance.\n",
        "\n",
        "Cross-validation and train-test splitting are essential techniques to evaluate the generalizability of the model and avoid overfitting to the training data."
      ]
    },
    {
      "cell_type": "code",
      "execution_count": 5,
      "metadata": {
        "id": "fqvaBsgxRk-J"
      },
      "outputs": [],
      "source": [
        "#apply two transformations to the data"
      ]
    },
    {
      "cell_type": "code",
      "execution_count": 114,
      "metadata": {},
      "outputs": [
        {
          "name": "stdout",
          "output_type": "stream",
          "text": [
            "Accuracy: 0.808\n"
          ]
        }
      ],
      "source": [
        "from sklearn.pipeline import Pipeline\n",
        "from sklearn.preprocessing import StandardScaler\n",
        "from sklearn.decomposition import PCA\n",
        "\n",
        "#Define the pipeline with two transformations: StandardScaler and PCA\n",
        "# and then KNeighborsClassifier as the estimator\n",
        "pipeline = Pipeline(\n",
        "    [\n",
        "        (\"scaler\", StandardScaler()),  # Standardizes the features\n",
        "        (\"pca\", PCA(n_components=2)),  # Reduces the dimensionality using PCA\n",
        "        (\"knn\", KNeighborsClassifier(n_neighbors=3)),  # K-Nearest Neighbors classifier\n",
        "    ]\n",
        ")\n",
        "\n",
        "# Fit the pipeline on the training data\n",
        "pipeline.fit(X_train, Y_train)\n",
        "\n",
        "# Make predictions on the test data\n",
        "Y_pred = pipeline.predict(X_test)\n",
        "\n",
        "# Calculate the accuracy\n",
        "accuracy = accuracy_score(Y_test, Y_pred)\n",
        "\n",
        "# Print the accuracy\n",
        "print(f\"Accuracy: {accuracy}\")"
      ]
    },
    {
      "cell_type": "code",
      "execution_count": 6,
      "metadata": {
        "id": "hkyRPHxjRqEb"
      },
      "outputs": [],
      "source": [
        "#run model spot checkking again"
      ]
    },
    {
      "cell_type": "code",
      "execution_count": 116,
      "metadata": {},
      "outputs": [
        {
          "name": "stdout",
          "output_type": "stream",
          "text": [
            "Accuracy: 0.838\n",
            "Cross-validation Accuracy: 0.8324\n"
          ]
        }
      ],
      "source": [
        "from sklearn.model_selection import cross_val_score\n",
        "\n",
        "# Initialize the AdaBoostClassifier with default parameters\n",
        "model = AdaBoostClassifier()\n",
        "\n",
        "# Fit the model on the training data\n",
        "model.fit(X_train, Y_train)\n",
        "\n",
        "# Make predictions on the test data\n",
        "Y_pred = model.predict(X_test)\n",
        "\n",
        "# Calculate accuracy\n",
        "accuracy = accuracy_score(Y_test, Y_pred)\n",
        "print(\"Accuracy:\", accuracy)\n",
        "\n",
        "# Evaluate model using cross-validation\n",
        "cv_scores = cross_val_score(model, X, Y, cv=5, scoring=\"accuracy\")\n",
        "print(\"Cross-validation Accuracy:\", cv_scores.mean())"
      ]
    },
    {
      "cell_type": "code",
      "execution_count": 7,
      "metadata": {
        "id": "o0BXiEySRsHa"
      },
      "outputs": [],
      "source": [
        "#which model was the best?"
      ]
    },
    {
      "cell_type": "code",
      "execution_count": 107,
      "metadata": {},
      "outputs": [
        {
          "name": "stdout",
          "output_type": "stream",
          "text": [
            "Model: Logistic Regression\n",
            "Accuracy: 0.8400000000000001\n",
            "Precision: 0.8406092184368739\n",
            "Recall: 0.9990487501413867\n",
            "F1: 0.9130056299380233\n",
            "\n",
            "Model: K-Nearest Neighbors\n",
            "Accuracy: 0.8144\n",
            "Precision: 0.8383474829984954\n",
            "Recall: 0.965252799457075\n",
            "F1: 0.8972898607251066\n",
            "\n",
            "Model: AdaBoost Classifier\n",
            "Accuracy: 0.8324\n",
            "Precision: 0.8466642265208664\n",
            "Recall: 0.9776303585567245\n",
            "F1: 0.9074401123192285\n",
            "\n"
          ]
        }
      ],
      "source": [
        "# Define models\n",
        "models = [\n",
        "    (\"Logistic Regression\", LogisticRegression(max_iter=1000)),\n",
        "    (\"K-Nearest Neighbors\", KNeighborsClassifier()),\n",
        "    (\"AdaBoost Classifier\", AdaBoostClassifier()),\n",
        "]\n",
        "\n",
        "# Define evaluation metrics\n",
        "scoring = {\n",
        "    \"accuracy\": \"accuracy\",\n",
        "    \"precision\": \"precision\",\n",
        "    \"recall\": \"recall\",\n",
        "    \"f1\": \"f1\",\n",
        "}\n",
        "\n",
        "# Evaluate models using cross-validation\n",
        "results = []\n",
        "for name, model in models:\n",
        "    cv_results = cross_validate(model, X, Y, cv=5, scoring=scoring)\n",
        "    avg_results = {metric: cv_results[f\"test_{metric}\"].mean() for metric in scoring}\n",
        "    results.append((name, avg_results))\n",
        "\n",
        "# Display results\n",
        "for name, result in results:\n",
        "    print(f\"Model: {name}\")\n",
        "    for metric, value in result.items():\n",
        "        print(f\"{metric.capitalize()}: {value}\")\n",
        "    print()"
      ]
    },
    {
      "cell_type": "markdown",
      "metadata": {
        "id": "r0fftEZBRxPz"
      },
      "source": [
        "Report:\n",
        "- Write your discoveries in detail and what you have learnt below.\n",
        "- Be as detailed as possible, this is very important."
      ]
    },
    {
      "cell_type": "markdown",
      "metadata": {},
      "source": [
        "From the 3 models selected, Linear regression was found to be the best with high Accuracy, preceicision, recall and F1 scores. No single model or configuration is universally the best. It is essential to understand the strengths and limitations of each model and adjust parameters to suit the specific dataset and task."
      ]
    }
  ],
  "metadata": {
    "colab": {
      "provenance": []
    },
    "kernelspec": {
      "display_name": "Python 3",
      "name": "python3"
    },
    "language_info": {
      "codemirror_mode": {
        "name": "ipython",
        "version": 3
      },
      "file_extension": ".py",
      "mimetype": "text/x-python",
      "name": "python",
      "nbconvert_exporter": "python",
      "pygments_lexer": "ipython3",
      "version": "3.12.0"
    }
  },
  "nbformat": 4,
  "nbformat_minor": 0
}
