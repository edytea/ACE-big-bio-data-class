{
  "cells": [
    {
      "cell_type": "markdown",
      "metadata": {
        "id": "4zHudEf8Au7Q"
      },
      "source": [
        "# Machine Learning Exercise\n",
        "\n",
        "Name:\n",
        "\n",
        "RegNo:"
      ]
    },
    {
      "cell_type": "code",
      "execution_count": 2,
      "metadata": {
        "id": "ayiHpaPsAnVT"
      },
      "outputs": [],
      "source": [
        "# import necessary libraries\n",
        "import pandas as pd\n",
        "from pandas import read_csv\n",
        "import warnings\n",
        "warnings.filterwarnings(\"ignore\")"
      ]
    },
    {
      "cell_type": "code",
      "execution_count": 3,
      "metadata": {
        "id": "Zqnq_IiCA3TK"
      },
      "outputs": [
        {
          "data": {
            "text/html": [
              "<div>\n",
              "<style scoped>\n",
              "    .dataframe tbody tr th:only-of-type {\n",
              "        vertical-align: middle;\n",
              "    }\n",
              "\n",
              "    .dataframe tbody tr th {\n",
              "        vertical-align: top;\n",
              "    }\n",
              "\n",
              "    .dataframe thead th {\n",
              "        text-align: right;\n",
              "    }\n",
              "</style>\n",
              "<table border=\"1\" class=\"dataframe\">\n",
              "  <thead>\n",
              "    <tr style=\"text-align: right;\">\n",
              "      <th></th>\n",
              "      <th>Pregnancies</th>\n",
              "      <th>Glucose</th>\n",
              "      <th>BloodPressure</th>\n",
              "      <th>SkinThickness</th>\n",
              "      <th>Insulin</th>\n",
              "      <th>BMI</th>\n",
              "      <th>DiabetesPedigreeFunction</th>\n",
              "      <th>Age</th>\n",
              "      <th>Outcome</th>\n",
              "    </tr>\n",
              "  </thead>\n",
              "  <tbody>\n",
              "    <tr>\n",
              "      <th>0</th>\n",
              "      <td>6</td>\n",
              "      <td>148</td>\n",
              "      <td>72</td>\n",
              "      <td>35</td>\n",
              "      <td>0</td>\n",
              "      <td>33.6</td>\n",
              "      <td>0.627</td>\n",
              "      <td>50</td>\n",
              "      <td>1</td>\n",
              "    </tr>\n",
              "    <tr>\n",
              "      <th>1</th>\n",
              "      <td>1</td>\n",
              "      <td>85</td>\n",
              "      <td>66</td>\n",
              "      <td>29</td>\n",
              "      <td>0</td>\n",
              "      <td>26.6</td>\n",
              "      <td>0.351</td>\n",
              "      <td>31</td>\n",
              "      <td>0</td>\n",
              "    </tr>\n",
              "    <tr>\n",
              "      <th>2</th>\n",
              "      <td>8</td>\n",
              "      <td>183</td>\n",
              "      <td>64</td>\n",
              "      <td>0</td>\n",
              "      <td>0</td>\n",
              "      <td>23.3</td>\n",
              "      <td>0.672</td>\n",
              "      <td>32</td>\n",
              "      <td>1</td>\n",
              "    </tr>\n",
              "    <tr>\n",
              "      <th>3</th>\n",
              "      <td>1</td>\n",
              "      <td>89</td>\n",
              "      <td>66</td>\n",
              "      <td>23</td>\n",
              "      <td>94</td>\n",
              "      <td>28.1</td>\n",
              "      <td>0.167</td>\n",
              "      <td>21</td>\n",
              "      <td>0</td>\n",
              "    </tr>\n",
              "    <tr>\n",
              "      <th>4</th>\n",
              "      <td>0</td>\n",
              "      <td>137</td>\n",
              "      <td>40</td>\n",
              "      <td>35</td>\n",
              "      <td>168</td>\n",
              "      <td>43.1</td>\n",
              "      <td>2.288</td>\n",
              "      <td>33</td>\n",
              "      <td>1</td>\n",
              "    </tr>\n",
              "  </tbody>\n",
              "</table>\n",
              "</div>"
            ],
            "text/plain": [
              "   Pregnancies  Glucose  BloodPressure  SkinThickness  Insulin   BMI  \\\n",
              "0            6      148             72             35        0  33.6   \n",
              "1            1       85             66             29        0  26.6   \n",
              "2            8      183             64              0        0  23.3   \n",
              "3            1       89             66             23       94  28.1   \n",
              "4            0      137             40             35      168  43.1   \n",
              "\n",
              "   DiabetesPedigreeFunction  Age  Outcome  \n",
              "0                     0.627   50        1  \n",
              "1                     0.351   31        0  \n",
              "2                     0.672   32        1  \n",
              "3                     0.167   21        0  \n",
              "4                     2.288   33        1  "
            ]
          },
          "execution_count": 3,
          "metadata": {},
          "output_type": "execute_result"
        }
      ],
      "source": [
        "# load the data: diabetes dataset provided in the repo\n",
        "file_name = \"diabetes.csv\"\n",
        "data = pd.read_csv(file_name)\n",
        "data.head(5)"
      ]
    },
    {
      "cell_type": "code",
      "execution_count": 4,
      "metadata": {},
      "outputs": [
        {
          "data": {
            "text/plain": [
              "Pregnancies                   int64\n",
              "Glucose                       int64\n",
              "BloodPressure                 int64\n",
              "SkinThickness                 int64\n",
              "Insulin                       int64\n",
              "BMI                         float64\n",
              "DiabetesPedigreeFunction    float64\n",
              "Age                           int64\n",
              "Outcome                       int64\n",
              "dtype: object"
            ]
          },
          "execution_count": 4,
          "metadata": {},
          "output_type": "execute_result"
        }
      ],
      "source": [
        "# Check the data types\n",
        "data.dtypes"
      ]
    },
    {
      "cell_type": "code",
      "execution_count": 5,
      "metadata": {
        "id": "-_nzAit9A60K"
      },
      "outputs": [
        {
          "data": {
            "text/plain": [
              "(768, 9)"
            ]
          },
          "execution_count": 5,
          "metadata": {},
          "output_type": "execute_result"
        }
      ],
      "source": [
        "# check the dimensions of the data, and explain why this step is important\n",
        "data.shape"
      ]
    },
    {
      "cell_type": "markdown",
      "metadata": {},
      "source": [
        "#### Explanating why checking the dimensions of data is important\n",
        "ITs because of the following reseons\n",
        "\n",
        "1. `Data Integrity:` This ensures that the data is complete and accurate. \n",
        "    The shape of the data gives an idea of how much data is available for analysis. \n",
        "    It helps in detecting any inconsistencies or missing values in the data.\n",
        "\n",
        "2. `Data Preprocessing:` The dimensions of data determine the appropriate preprocessing steps \n",
        "    to apply before building a machine learning model. Steps like data cleaning.\n",
        "\n",
        "3. `Model Training:` Since machine learning models require a certain amount of data to learn \n",
        "    and generalize patterns in the data, checking the dimensions impacts this stage.\n",
        "    If the dataset is too small, the model may not learn the underlying patterns in the data, \n",
        "    and if the dataset is too large, it may lead to overfitting. \n",
        "    \n",
        "4. `Training time estimation:` The dimensions of data have a significant impact \n",
        "    on the training times of machine learning models. \n",
        "    As the size of the dataset increases, the training time of machine learning models also increases."
      ]
    },
    {
      "cell_type": "code",
      "execution_count": null,
      "metadata": {
        "id": "kIPFwb0SBCHh"
      },
      "outputs": [],
      "source": [
        "#transform the dataset by filling in values that are min = 0 but are not accurate e.g Insulin min=0\n",
        "#chose the best way you think to replace those values, whether with the mean value e.t.c"
      ]
    },
    {
      "cell_type": "markdown",
      "metadata": {},
      "source": [
        "### Data Transformation"
      ]
    },
    {
      "cell_type": "code",
      "execution_count": 7,
      "metadata": {},
      "outputs": [
        {
          "data": {
            "text/html": [
              "<div>\n",
              "<style scoped>\n",
              "    .dataframe tbody tr th:only-of-type {\n",
              "        vertical-align: middle;\n",
              "    }\n",
              "\n",
              "    .dataframe tbody tr th {\n",
              "        vertical-align: top;\n",
              "    }\n",
              "\n",
              "    .dataframe thead th {\n",
              "        text-align: right;\n",
              "    }\n",
              "</style>\n",
              "<table border=\"1\" class=\"dataframe\">\n",
              "  <thead>\n",
              "    <tr style=\"text-align: right;\">\n",
              "      <th></th>\n",
              "      <th>Pregnancies</th>\n",
              "      <th>Glucose</th>\n",
              "      <th>BloodPressure</th>\n",
              "      <th>SkinThickness</th>\n",
              "      <th>Insulin</th>\n",
              "      <th>BMI</th>\n",
              "      <th>DiabetesPedigreeFunction</th>\n",
              "      <th>Age</th>\n",
              "      <th>Outcome</th>\n",
              "    </tr>\n",
              "  </thead>\n",
              "  <tbody>\n",
              "    <tr>\n",
              "      <th>0</th>\n",
              "      <td>6</td>\n",
              "      <td>148.0</td>\n",
              "      <td>72.0</td>\n",
              "      <td>35.00000</td>\n",
              "      <td>155.548223</td>\n",
              "      <td>33.6</td>\n",
              "      <td>0.627</td>\n",
              "      <td>50</td>\n",
              "      <td>1</td>\n",
              "    </tr>\n",
              "    <tr>\n",
              "      <th>1</th>\n",
              "      <td>1</td>\n",
              "      <td>85.0</td>\n",
              "      <td>66.0</td>\n",
              "      <td>29.00000</td>\n",
              "      <td>155.548223</td>\n",
              "      <td>26.6</td>\n",
              "      <td>0.351</td>\n",
              "      <td>31</td>\n",
              "      <td>0</td>\n",
              "    </tr>\n",
              "    <tr>\n",
              "      <th>2</th>\n",
              "      <td>8</td>\n",
              "      <td>183.0</td>\n",
              "      <td>64.0</td>\n",
              "      <td>29.15342</td>\n",
              "      <td>155.548223</td>\n",
              "      <td>23.3</td>\n",
              "      <td>0.672</td>\n",
              "      <td>32</td>\n",
              "      <td>1</td>\n",
              "    </tr>\n",
              "    <tr>\n",
              "      <th>3</th>\n",
              "      <td>1</td>\n",
              "      <td>89.0</td>\n",
              "      <td>66.0</td>\n",
              "      <td>23.00000</td>\n",
              "      <td>94.000000</td>\n",
              "      <td>28.1</td>\n",
              "      <td>0.167</td>\n",
              "      <td>21</td>\n",
              "      <td>0</td>\n",
              "    </tr>\n",
              "    <tr>\n",
              "      <th>4</th>\n",
              "      <td>0</td>\n",
              "      <td>137.0</td>\n",
              "      <td>40.0</td>\n",
              "      <td>35.00000</td>\n",
              "      <td>168.000000</td>\n",
              "      <td>43.1</td>\n",
              "      <td>2.288</td>\n",
              "      <td>33</td>\n",
              "      <td>1</td>\n",
              "    </tr>\n",
              "  </tbody>\n",
              "</table>\n",
              "</div>"
            ],
            "text/plain": [
              "   Pregnancies  Glucose  BloodPressure  SkinThickness     Insulin   BMI  \\\n",
              "0            6    148.0           72.0       35.00000  155.548223  33.6   \n",
              "1            1     85.0           66.0       29.00000  155.548223  26.6   \n",
              "2            8    183.0           64.0       29.15342  155.548223  23.3   \n",
              "3            1     89.0           66.0       23.00000   94.000000  28.1   \n",
              "4            0    137.0           40.0       35.00000  168.000000  43.1   \n",
              "\n",
              "   DiabetesPedigreeFunction  Age  Outcome  \n",
              "0                     0.627   50        1  \n",
              "1                     0.351   31        0  \n",
              "2                     0.672   32        1  \n",
              "3                     0.167   21        0  \n",
              "4                     2.288   33        1  "
            ]
          },
          "execution_count": 7,
          "metadata": {},
          "output_type": "execute_result"
        }
      ],
      "source": [
        "# create a copy of the original dataset with a new name\n",
        "cleaned_data = data.copy()\n",
        "\n",
        "# replace the 0 values with the mean of non-zero values in the Glucose column\n",
        "mean_g = cleaned_data[cleaned_data[\"Glucose\"] != 0][\"Glucose\"].mean()\n",
        "cleaned_data[\"Glucose\"] = cleaned_data[\"Glucose\"].replace(0, mean_g)\n",
        "\n",
        "# replace the 0 values with the mean of non-zero values in the BloodPressure column\n",
        "mean_bp = cleaned_data[cleaned_data[\"BloodPressure\"] != 0][\"BloodPressure\"].mean()\n",
        "cleaned_data[\"BloodPressure\"] = cleaned_data[\"BloodPressure\"].replace(0, mean_bp)\n",
        "\n",
        "# replace the 0 values with the mean of non-zero values in the Insulin column\n",
        "mean_i = cleaned_data[cleaned_data[\"Insulin\"] != 0][\"Insulin\"].mean()\n",
        "cleaned_data[\"Insulin\"] = cleaned_data[\"Insulin\"].replace(0, mean_i)\n",
        "\n",
        "# replace the 0 values with the mean of non-zero values in the BMI column\n",
        "mean_bmi = cleaned_data[cleaned_data[\"BMI\"] != 0][\"BMI\"].mean()\n",
        "cleaned_data[\"BMI\"] = cleaned_data[\"BMI\"].replace(0, mean_bmi)\n",
        "\n",
        "# replace the 0 values with the mean of non-zero values in the SkinThickness column\n",
        "mean_st = cleaned_data[cleaned_data[\"SkinThickness\"] != 0][\"SkinThickness\"].mean()\n",
        "cleaned_data[\"SkinThickness\"] = cleaned_data[\"SkinThickness\"].replace(0, mean_st)\n",
        "\n",
        "# clean the data by removing any duplicates and handling missing values\n",
        "cleaned_data.drop_duplicates(inplace=True)\n",
        "cleaned_data.dropna(inplace=True)\n",
        "\n",
        "# printing the first 5 rows\n",
        "cleaned_data.head(5)"
      ]
    },
    {
      "cell_type": "code",
      "execution_count": 8,
      "metadata": {},
      "outputs": [
        {
          "data": {
            "text/html": [
              "<div>\n",
              "<style scoped>\n",
              "    .dataframe tbody tr th:only-of-type {\n",
              "        vertical-align: middle;\n",
              "    }\n",
              "\n",
              "    .dataframe tbody tr th {\n",
              "        vertical-align: top;\n",
              "    }\n",
              "\n",
              "    .dataframe thead th {\n",
              "        text-align: right;\n",
              "    }\n",
              "</style>\n",
              "<table border=\"1\" class=\"dataframe\">\n",
              "  <thead>\n",
              "    <tr style=\"text-align: right;\">\n",
              "      <th></th>\n",
              "      <th>Pregnancies</th>\n",
              "      <th>Glucose</th>\n",
              "      <th>BloodPressure</th>\n",
              "      <th>SkinThickness</th>\n",
              "      <th>Insulin</th>\n",
              "      <th>BMI</th>\n",
              "      <th>DiabetesPedigreeFunction</th>\n",
              "      <th>Age</th>\n",
              "      <th>Outcome</th>\n",
              "    </tr>\n",
              "  </thead>\n",
              "  <tbody>\n",
              "    <tr>\n",
              "      <th>0</th>\n",
              "      <td>6</td>\n",
              "      <td>148</td>\n",
              "      <td>72</td>\n",
              "      <td>35</td>\n",
              "      <td>0</td>\n",
              "      <td>33.6</td>\n",
              "      <td>0.627</td>\n",
              "      <td>50</td>\n",
              "      <td>1</td>\n",
              "    </tr>\n",
              "    <tr>\n",
              "      <th>1</th>\n",
              "      <td>1</td>\n",
              "      <td>85</td>\n",
              "      <td>66</td>\n",
              "      <td>29</td>\n",
              "      <td>0</td>\n",
              "      <td>26.6</td>\n",
              "      <td>0.351</td>\n",
              "      <td>31</td>\n",
              "      <td>0</td>\n",
              "    </tr>\n",
              "    <tr>\n",
              "      <th>2</th>\n",
              "      <td>8</td>\n",
              "      <td>183</td>\n",
              "      <td>64</td>\n",
              "      <td>0</td>\n",
              "      <td>0</td>\n",
              "      <td>23.3</td>\n",
              "      <td>0.672</td>\n",
              "      <td>32</td>\n",
              "      <td>1</td>\n",
              "    </tr>\n",
              "    <tr>\n",
              "      <th>3</th>\n",
              "      <td>1</td>\n",
              "      <td>89</td>\n",
              "      <td>66</td>\n",
              "      <td>23</td>\n",
              "      <td>94</td>\n",
              "      <td>28.1</td>\n",
              "      <td>0.167</td>\n",
              "      <td>21</td>\n",
              "      <td>0</td>\n",
              "    </tr>\n",
              "    <tr>\n",
              "      <th>4</th>\n",
              "      <td>0</td>\n",
              "      <td>137</td>\n",
              "      <td>40</td>\n",
              "      <td>35</td>\n",
              "      <td>168</td>\n",
              "      <td>43.1</td>\n",
              "      <td>2.288</td>\n",
              "      <td>33</td>\n",
              "      <td>1</td>\n",
              "    </tr>\n",
              "  </tbody>\n",
              "</table>\n",
              "</div>"
            ],
            "text/plain": [
              "   Pregnancies  Glucose  BloodPressure  SkinThickness  Insulin   BMI  \\\n",
              "0            6      148             72             35        0  33.6   \n",
              "1            1       85             66             29        0  26.6   \n",
              "2            8      183             64              0        0  23.3   \n",
              "3            1       89             66             23       94  28.1   \n",
              "4            0      137             40             35      168  43.1   \n",
              "\n",
              "   DiabetesPedigreeFunction  Age  Outcome  \n",
              "0                     0.627   50        1  \n",
              "1                     0.351   31        0  \n",
              "2                     0.672   32        1  \n",
              "3                     0.167   21        0  \n",
              "4                     2.288   33        1  "
            ]
          },
          "execution_count": 8,
          "metadata": {},
          "output_type": "execute_result"
        }
      ],
      "source": [
        "# create a copy of the original dataset with a new name\n",
        "transformed_data = data.copy()\n",
        "# Drop duplicates and fill NaN values with zero\n",
        "transformed_data.drop_duplicates(transformed_data)\n",
        "transformed_data = transformed_data.fillna(0)\n",
        "transformed_data.head(5)"
      ]
    },
    {
      "cell_type": "code",
      "execution_count": null,
      "metadata": {
        "id": "7AAPPovwBcGO"
      },
      "outputs": [],
      "source": [
        "#install missingno\n",
        "%pip install missingno"
      ]
    },
    {
      "cell_type": "code",
      "execution_count": 9,
      "metadata": {
        "id": "mTw5jy8pBeeL"
      },
      "outputs": [
        {
          "data": {
            "text/plain": [
              "<Axes: >"
            ]
          },
          "execution_count": 9,
          "metadata": {},
          "output_type": "execute_result"
        },
        {
          "data": {
            "image/png": "[encoded data removed]",
            "text/plain": [
              "<Figure size 2500x1000 with 2 Axes>"
            ]
          },
          "metadata": {},
          "output_type": "display_data"
        }
      ],
      "source": [
        "# plot the missingness matrix with missingno\n",
        "import missingno as msno\n",
        "# ploting missingness matrix with missingno\n",
        "msno.matrix(transformed_data)"
      ]
    },
    {
      "cell_type": "code",
      "execution_count": null,
      "metadata": {
        "id": "amB1J_ViBWft"
      },
      "outputs": [],
      "source": [
        "#install pandas profiling\n",
        "%pip install ydata-profiling"
      ]
    },
    {
      "cell_type": "code",
      "execution_count": 10,
      "metadata": {
        "id": "RFyCUvhWBY5t"
      },
      "outputs": [
        {
          "data": {
            "application/vnd.jupyter.widget-view+json": {
              "model_id": "bfcf38f2fc0a42b49d1b15751325cd42",
              "version_major": 2,
              "version_minor": 0
            },
            "text/plain": [
              "Summarize dataset:   0%|          | 0/5 [00:00<?, ?it/s]"
            ]
          },
          "metadata": {},
          "output_type": "display_data"
        },
        {
          "data": {
            "application/vnd.jupyter.widget-view+json": {
              "model_id": "81eee817167146fbbccc916c0708cc87",
              "version_major": 2,
              "version_minor": 0
            },
            "text/plain": [
              "Generate report structure:   0%|          | 0/1 [00:00<?, ?it/s]"
            ]
          },
          "metadata": {},
          "output_type": "display_data"
        },
        {
          "data": {
            "application/vnd.jupyter.widget-view+json": {
              "model_id": "cc13551968b348ba88f026291dc05ac9",
              "version_major": 2,
              "version_minor": 0
            },
            "text/plain": [
              "Render HTML:   0%|          | 0/1 [00:00<?, ?it/s]"
            ]
          },
          "metadata": {},
          "output_type": "display_data"
        },
        {
          "data": {
            "application/vnd.jupyter.widget-view+json": {
              "model_id": "f3345f76111645e79854f287458bf3c6",
              "version_major": 2,
              "version_minor": 0
            },
            "text/plain": [
              "Export report to file:   0%|          | 0/1 [00:00<?, ?it/s]"
            ]
          },
          "metadata": {},
          "output_type": "display_data"
        }
      ],
      "source": [
        "# export an html report for your profiling\n",
        "\n",
        "from ydata_profiling import profile_report\n",
        "# create an EDA report using pandas profiling\n",
        "profile = transformed_data.profile_report()\n",
        "profile.to_file(output_file=\"eda_report.html\")"
      ]
    },
    {
      "cell_type": "code",
      "execution_count": null,
      "metadata": {
        "id": "gcDHpdyjB07o"
      },
      "outputs": [],
      "source": [
        "#install seaborn and plot at least 2-3 variables of your choice\n",
        "\n",
        "#after plotting explain what the plot is communicating."
      ]
    },
    {
      "cell_type": "code",
      "execution_count": null,
      "metadata": {},
      "outputs": [],
      "source": [
        "# Install Seaborb\n",
        "%pip install seaborn"
      ]
    },
    {
      "cell_type": "code",
      "execution_count": 12,
      "metadata": {},
      "outputs": [
        {
          "data": {
            "text/plain": [
              "<Axes: xlabel='BloodPressure', ylabel='Glucose'>"
            ]
          },
          "execution_count": 12,
          "metadata": {},
          "output_type": "execute_result"
        },
        {
          "data": {
            "image/png": "[encoded data removed]",
            "text/plain": [
              "<Figure size 640x480 with 1 Axes>"
            ]
          },
          "metadata": {},
          "output_type": "display_data"
        }
      ],
      "source": [
        "# Import Seaborn\n",
        "import seaborn as sns\n",
        "# import matplotlib.pyplot as plt\n",
        "sns.scatterplot(transformed_data, x=\"BloodPressure\", y=\"Glucose\")\n",
        "\n",
        "# plt.title(\"Scatter Plot of Weight versus Age\")\n",
        "# plt.xlabel(\"Age\")\n",
        "# plt.ylabel(\"Weight\")\n",
        "# plt.show()\n",
        "\n",
        "# sns.histplot(\n",
        "#     data=transformed_data, x=\"days_art\", hue=\"sex\", multiple=\"dodge\")"
      ]
    },
    {
      "cell_type": "markdown",
      "metadata": {
        "id": "roPBR22KNeYH"
      },
      "source": [
        "#Further exercises\n",
        "\n",
        "Model spot checking,\n",
        "- I would like for you to choose up to 20 diferent models for classification in the sklearn library and add them in the code below\n",
        "- The idea is to evaluate as many as possible, you can add even more of those.\n",
        "- run them through the code below and then find the ones that might work well with your data."
      ]
    },
    {
      "cell_type": "code",
      "execution_count": 13,
      "metadata": {},
      "outputs": [
        {
          "name": "stdout",
          "output_type": "stream",
          "text": [
            "              Model  F1 Score    Recall  Precision       MCC\n",
            "0                LR  0.628733  0.565837   0.713245  0.475102\n",
            "1               LDA  0.620423  0.555180   0.708347  0.463732\n",
            "2               KNN  0.539798  0.497379   0.601724  0.335675\n",
            "3              CART  0.550199  0.542414   0.565527  0.323944\n",
            "4                NB  0.629839  0.599243   0.669300  0.454409\n",
            "5               SVM  0.576544  0.478453   0.739531  0.444037\n",
            "6                RF  0.622405  0.575925   0.689666  0.458764\n",
            "7                GB  0.630123  0.596746   0.674509  0.455623\n",
            "8               ADA  0.655594  0.630930   0.692205  0.489505\n",
            "9           Bagging  0.593522  0.542697   0.663142  0.417948\n",
            "10       ExtraTrees  0.622103  0.569060   0.691354  0.456268\n",
            "11              MLP  0.508475  0.509694   0.578346  0.306421\n",
            "12  GaussianProcess  0.449805  0.396991   0.687357  0.336225\n",
            "13           Voting  0.643117  0.592487   0.710427  0.489883\n",
            "14         Stacking  0.627550  0.580847   0.691915  0.466654\n",
            "15              GBC  0.630123  0.596746   0.674509  0.455623\n",
            "16         SVM_poly  0.567899  0.458018   0.764874  0.447877\n",
            "17          SVM_rbf  0.576544  0.478453   0.739531  0.444037\n",
            "18      SVM_sigmoid  0.121794  0.103243   0.162797 -0.215065\n",
            "19       SVM_linear  0.621833  0.553553   0.715668  0.470689\n"
          ]
        }
      ],
      "source": [
        "import numpy as np\n",
        "from sklearn.model_selection import KFold, cross_validate\n",
        "from sklearn.linear_model import LogisticRegression\n",
        "from sklearn.tree import DecisionTreeClassifier\n",
        "from sklearn.neighbors import KNeighborsClassifier\n",
        "from sklearn.discriminant_analysis import LinearDiscriminantAnalysis\n",
        "from sklearn.naive_bayes import GaussianNB\n",
        "from sklearn.svm import SVC\n",
        "from sklearn.ensemble import (\n",
        "    RandomForestClassifier,\n",
        "    GradientBoostingClassifier,\n",
        "    AdaBoostClassifier,\n",
        "    BaggingClassifier,\n",
        "    ExtraTreesClassifier,\n",
        "    VotingClassifier,\n",
        ")\n",
        "from sklearn.neural_network import MLPClassifier\n",
        "from sklearn.gaussian_process import GaussianProcessClassifier\n",
        "from sklearn.gaussian_process.kernels import RBF\n",
        "from sklearn.ensemble import GradientBoostingClassifier\n",
        "from sklearn.ensemble import StackingClassifier\n",
        "\n",
        "from sklearn.metrics import (\n",
        "    make_scorer,\n",
        "    precision_score,\n",
        "    recall_score,\n",
        "    f1_score,\n",
        "    matthews_corrcoef,\n",
        ")\n",
        "\n",
        "dataframe = transformed_data\n",
        "\n",
        "# Split the dataset\n",
        "X = dataframe.iloc[:, 0:8]\n",
        "Y = dataframe.iloc[:, 8]\n",
        "\n",
        "# Prepare models\n",
        "models = [\n",
        "    (\"LR\", LogisticRegression(max_iter=1000)),\n",
        "    (\"LDA\", LinearDiscriminantAnalysis()),\n",
        "    (\"KNN\", KNeighborsClassifier()),\n",
        "    (\"CART\", DecisionTreeClassifier()),\n",
        "    (\"NB\", GaussianNB()),\n",
        "    (\"SVM\", SVC(probability=True)),  # Enable probability for SVC to calculate MCC\n",
        "    (\"RF\", RandomForestClassifier()),\n",
        "    (\"GB\", GradientBoostingClassifier()),\n",
        "    (\"ADA\", AdaBoostClassifier()),\n",
        "    (\"Bagging\", BaggingClassifier()),\n",
        "    (\"ExtraTrees\", ExtraTreesClassifier()),\n",
        "    (\"MLP\", MLPClassifier(max_iter=1000)),\n",
        "    (\"GaussianProcess\", GaussianProcessClassifier(1.0 * RBF(1.0))),\n",
        "    (\n",
        "        \"Voting\",\n",
        "        VotingClassifier(\n",
        "            estimators=[\n",
        "                (\"lr\", LogisticRegression(max_iter=1000)),\n",
        "                (\"rf\", RandomForestClassifier()),\n",
        "                (\"gnb\", GaussianNB()),\n",
        "            ]\n",
        "        ),\n",
        "    ),\n",
        "    (\n",
        "        \"Stacking\",\n",
        "        StackingClassifier(\n",
        "            estimators=[(\"rf\", RandomForestClassifier()), (\"gnb\", GaussianNB())],\n",
        "            final_estimator=LogisticRegression(),\n",
        "        ),\n",
        "    ),\n",
        "    (\"GBC\", GradientBoostingClassifier()),\n",
        "    (\"SVM_poly\", SVC(kernel=\"poly\", probability=True)),\n",
        "    (\"SVM_rbf\", SVC(kernel=\"rbf\", probability=True)),\n",
        "    (\"SVM_sigmoid\", SVC(kernel=\"sigmoid\", probability=True)),\n",
        "    (\"SVM_linear\", SVC(kernel=\"linear\", probability=True)),\n",
        "]\n",
        "\n",
        "\n",
        "# Scoring metrics\n",
        "scoring = {\n",
        "    \"f1\": make_scorer(f1_score),\n",
        "    \"recall\": make_scorer(recall_score),\n",
        "    \"precision\": make_scorer(precision_score),\n",
        "    \"MCC\": make_scorer(matthews_corrcoef),\n",
        "}\n",
        "\n",
        "\n",
        "# Evaluate models function\n",
        "def evaluate_models(models, X, Y, scoring, n_splits=10, random_seed=7):\n",
        "    scores = []\n",
        "    for name, model in models:\n",
        "        kfold = KFold(n_splits=n_splits, random_state=random_seed, shuffle=True)\n",
        "        cv_results = cross_validate(model, X, Y, cv=kfold, scoring=scoring)\n",
        "        scores.append(\n",
        "            {\n",
        "                \"Model\": name,\n",
        "                \"F1 Score\": np.mean(cv_results[\"test_f1\"]),\n",
        "                \"Recall\": np.mean(cv_results[\"test_recall\"]),\n",
        "                \"Precision\": np.mean(cv_results[\"test_precision\"]),\n",
        "                \"MCC\": np.mean(cv_results[\"test_MCC\"]),\n",
        "            }\n",
        "        )\n",
        "    return pd.DataFrame(scores)\n",
        "\n",
        "# Evaluation\n",
        "model_scores = evaluate_models(models, X, Y, scoring)\n",
        "\n",
        "# Display the consolidated scores\n",
        "print(model_scores)"
      ]
    },
    {
      "cell_type": "code",
      "execution_count": null,
      "metadata": {
        "id": "MLDAD91IRCy9"
      },
      "outputs": [],
      "source": [
        "#chose your best model and train the model based on the example in the code\n",
        "#For this cell let the parameters in your first model be on default"
      ]
    },
    {
      "cell_type": "code",
      "execution_count": 36,
      "metadata": {},
      "outputs": [
        {
          "name": "stdout",
          "output_type": "stream",
          "text": [
            "              Model  Average_Score\n",
            "8               ADA       0.617059\n",
            "13           Voting       0.606844\n",
            "0                LR       0.595729\n",
            "14         Stacking       0.595204\n",
            "6                RF       0.591909\n",
            "19       SVM_linear       0.590436\n",
            "15              GBC       0.589250\n",
            "4                NB       0.588198\n",
            "7                GB       0.587695\n",
            "1               LDA       0.586921\n",
            "10       ExtraTrees       0.570915\n",
            "16         SVM_poly       0.559667\n",
            "5               SVM       0.559641\n",
            "17          SVM_rbf       0.559641\n",
            "9           Bagging       0.530412\n",
            "11              MLP       0.522589\n",
            "2               KNN       0.493644\n",
            "12  GaussianProcess       0.467594\n",
            "3              CART       0.467320\n",
            "18      SVM_sigmoid       0.043192\n"
          ]
        }
      ],
      "source": [
        "# Calculate average score for each model\n",
        "model_scores[\"Average_Score\"] = model_scores[\n",
        "    [\"F1 Score\", \"Recall\", \"Precision\", \"MCC\"]\n",
        "].mean(axis=1)\n",
        "\n",
        "# Sort models by average score (descending order)\n",
        "ranked_models = model_scores.sort_values(by=\"Average_Score\", ascending=False)\n",
        "\n",
        "# Display the ranked models\n",
        "print(ranked_models[[\"Model\", \"Average_Score\"]])"
      ]
    },
    {
      "cell_type": "code",
      "execution_count": 34,
      "metadata": {},
      "outputs": [
        {
          "name": "stdout",
          "output_type": "stream",
          "text": [
            "Accuracy: 0.7337662337662337\n"
          ]
        }
      ],
      "source": [
        "from sklearn.model_selection import train_test_split\n",
        "from sklearn.metrics import accuracy_score\n",
        "\n",
        "# Split the dataset into features (X) and target variable (Y)\n",
        "X = dataframe.iloc[:, 0:8]\n",
        "Y = dataframe.iloc[:, 8]\n",
        "\n",
        "# Split the dataset into training and testing sets\n",
        "X_train, X_test, Y_train, Y_test = train_test_split(\n",
        "    X, Y, test_size=0.2, random_state=42\n",
        ")\n",
        "\n",
        "# Initialize the AdaBoost Classifier with default parameters\n",
        "model = AdaBoostClassifier()\n",
        "\n",
        "# Train the model\n",
        "model.fit(X_train, Y_train)\n",
        "\n",
        "# Make predictions on the test set\n",
        "Y_pred = model.predict(X_test)\n",
        "\n",
        "# Calculate accuracy\n",
        "accuracy = accuracy_score(Y_test, Y_pred)\n",
        "\n",
        "print(\"Accuracy:\", accuracy)"
      ]
    },
    {
      "cell_type": "code",
      "execution_count": null,
      "metadata": {
        "id": "n-FrvukcRL81"
      },
      "outputs": [],
      "source": [
        "#update the parameters as you see fit and record your results\n",
        "#you can run as many examples as possible."
      ]
    },
    {
      "cell_type": "code",
      "execution_count": 35,
      "metadata": {},
      "outputs": [
        {
          "name": "stdout",
          "output_type": "stream",
          "text": [
            "Configuration 1: Accuracy - 0.7662337662337663\n",
            "Configuration 2: Accuracy - 0.7532467532467533\n",
            "Configuration 3: Accuracy - 0.7662337662337663\n",
            "Configuration 4: Accuracy - 0.7337662337662337\n"
          ]
        }
      ],
      "source": [
        "import pandas as pd\n",
        "from sklearn.model_selection import train_test_split\n",
        "from sklearn.ensemble import AdaBoostClassifier\n",
        "from sklearn.metrics import accuracy_score\n",
        "\n",
        "# Load dataset\n",
        "filename = \"diabetes.csv\"\n",
        "dataframe = pd.read_csv(filename)\n",
        "\n",
        "# Split the dataset into features (X) and target variable (Y)\n",
        "X = dataframe.iloc[:, 0:8]\n",
        "Y = dataframe.iloc[:, 8]\n",
        "\n",
        "# Split the dataset into training and testing sets\n",
        "X_train, X_test, Y_train, Y_test = train_test_split(\n",
        "    X, Y, test_size=0.2, random_state=42\n",
        ")\n",
        "\n",
        "# Initialize the results dictionary to record the accuracy for each configuration\n",
        "results = {}\n",
        "\n",
        "# Define parameter configurations to try\n",
        "parameters = [\n",
        "    {\n",
        "        \"n_estimators\": 50,\n",
        "        \"learning_rate\": 0.1,\n",
        "        \"random_state\": 42,\n",
        "    },  # Default parameters\n",
        "    {\n",
        "        \"n_estimators\": 100,\n",
        "        \"learning_rate\": 0.5,\n",
        "        \"random_state\": 42,\n",
        "    },  # Increased n_estimators and learning_rate\n",
        "    {\n",
        "        \"n_estimators\": 200,\n",
        "        \"learning_rate\": 0.1,\n",
        "        \"random_state\": 42,\n",
        "    },  # Increased n_estimators\n",
        "    {\n",
        "        \"n_estimators\": 50,\n",
        "        \"learning_rate\": 1.0,\n",
        "        \"random_state\": 42,\n",
        "    },  # Increased learning_rate\n",
        "]\n",
        "\n",
        "# Train and evaluate the model for each parameter configuration\n",
        "for i, param_config in enumerate(parameters):\n",
        "    # Initialize the AdaBoost Classifier model with current parameters\n",
        "    model = AdaBoostClassifier(**param_config)\n",
        "\n",
        "    # Train the model\n",
        "    model.fit(X_train, Y_train)\n",
        "\n",
        "    # Make predictions on the test set\n",
        "    Y_pred = model.predict(X_test)\n",
        "\n",
        "    # Calculate accuracy\n",
        "    accuracy = accuracy_score(Y_test, Y_pred)\n",
        "\n",
        "    # Record the accuracy for the current configuration\n",
        "    results[f\"Configuration {i+1}\"] = accuracy\n",
        "\n",
        "# Display the recorded results\n",
        "for config, accuracy in results.items():\n",
        "    print(f\"{config}: Accuracy - {accuracy}\")"
      ]
    },
    {
      "cell_type": "code",
      "execution_count": null,
      "metadata": {
        "id": "x_41pqHCRSf_"
      },
      "outputs": [],
      "source": [
        "#Try another model of your choice and repeate the same steps as above."
      ]
    },
    {
      "cell_type": "code",
      "execution_count": 37,
      "metadata": {},
      "outputs": [
        {
          "name": "stdout",
          "output_type": "stream",
          "text": [
            "Accuracy: 0.6623376623376623\n"
          ]
        }
      ],
      "source": [
        "# KNN with Dafault\n",
        "import pandas as pd\n",
        "from sklearn.model_selection import train_test_split\n",
        "from sklearn.neighbors import KNeighborsClassifier\n",
        "from sklearn.metrics import accuracy_score\n",
        "\n",
        "# Load dataset\n",
        "filename = \"diabetes.csv\"\n",
        "dataframe = pd.read_csv(filename)\n",
        "\n",
        "# Split the dataset into features (X) and target variable (Y)\n",
        "X = dataframe.iloc[:, 0:8]\n",
        "Y = dataframe.iloc[:, 8]\n",
        "\n",
        "# Split the dataset into training and testing sets\n",
        "X_train, X_test, Y_train, Y_test = train_test_split(\n",
        "    X, Y, test_size=0.2, random_state=42\n",
        ")\n",
        "\n",
        "# Initialize the K-Nearest Neighbors (KNN) classifier with default parameters\n",
        "model = KNeighborsClassifier()\n",
        "\n",
        "# Train the model\n",
        "model.fit(X_train, Y_train)\n",
        "\n",
        "# Make predictions on the test set\n",
        "Y_pred = model.predict(X_test)\n",
        "\n",
        "# Calculate accuracy\n",
        "accuracy = accuracy_score(Y_test, Y_pred)\n",
        "\n",
        "print(\"Accuracy:\", accuracy)"
      ]
    },
    {
      "cell_type": "code",
      "execution_count": 39,
      "metadata": {},
      "outputs": [
        {
          "name": "stdout",
          "output_type": "stream",
          "text": [
            "Accuracy: 0.7077922077922078\n"
          ]
        }
      ],
      "source": [
        "# KNN with adjustments\n",
        "import pandas as pd\n",
        "from sklearn.model_selection import train_test_split\n",
        "from sklearn.neighbors import KNeighborsClassifier\n",
        "from sklearn.metrics import accuracy_score\n",
        "\n",
        "# Load dataset\n",
        "filename = \"diabetes.csv\"\n",
        "dataframe = pd.read_csv(filename)\n",
        "\n",
        "# Split the dataset into features (X) and target variable (Y)\n",
        "X = dataframe.iloc[:, 0:8]\n",
        "Y = dataframe.iloc[:, 8]\n",
        "\n",
        "# Split the dataset into training and testing sets\n",
        "X_train, X_test, Y_train, Y_test = train_test_split(\n",
        "    X, Y, test_size=0.2, random_state=42\n",
        ")\n",
        "\n",
        "# Initialize the K-Nearest Neighbors (KNN) classifier with adjusted parameters\n",
        "model = KNeighborsClassifier(\n",
        "    n_neighbors=10, weights=\"distance\", algorithm=\"auto\", metric=\"manhattan\"\n",
        ")\n",
        "\n",
        "# Train the model\n",
        "model.fit(X_train, Y_train)\n",
        "\n",
        "# Make predictions on the test set\n",
        "Y_pred = model.predict(X_test)\n",
        "\n",
        "# Calculate accuracy\n",
        "accuracy = accuracy_score(Y_test, Y_pred)\n",
        "\n",
        "print(\"Accuracy:\", accuracy)"
      ]
    },
    {
      "cell_type": "markdown",
      "metadata": {
        "id": "R8oIHcfWRZ3K"
      },
      "source": [
        "Report:\n",
        "- Write your discoveries in detail and what you have learnt below.\n",
        "- Be as detailed as possible, this is very important."
      ]
    },
    {
      "cell_type": "code",
      "execution_count": 5,
      "metadata": {
        "id": "fqvaBsgxRk-J"
      },
      "outputs": [],
      "source": [
        "#apply two transformations to the data"
      ]
    },
    {
      "cell_type": "code",
      "execution_count": 41,
      "metadata": {},
      "outputs": [
        {
          "name": "stdout",
          "output_type": "stream",
          "text": [
            "Accuracy: 0.7142857142857143\n"
          ]
        }
      ],
      "source": [
        "import pandas as pd\n",
        "from sklearn.model_selection import train_test_split\n",
        "from sklearn.preprocessing import StandardScaler, MinMaxScaler\n",
        "from sklearn.neighbors import KNeighborsClassifier\n",
        "from sklearn.metrics import accuracy_score\n",
        "\n",
        "# Load dataset\n",
        "filename = \"diabetes.csv\"\n",
        "dataframe = pd.read_csv(filename)\n",
        "\n",
        "# Split the dataset into features (X) and target variable (Y)\n",
        "X = dataframe.iloc[:, 0:8]\n",
        "Y = dataframe.iloc[:, 8]\n",
        "\n",
        "# Apply Standardization\n",
        "scaler = StandardScaler()\n",
        "X_scaled = scaler.fit_transform(X)\n",
        "\n",
        "# Apply Min-Max Scaling\n",
        "scaler = MinMaxScaler()\n",
        "X_scaled = scaler.fit_transform(X_scaled)\n",
        "\n",
        "# Split the scaled dataset into training and testing sets\n",
        "X_train, X_test, Y_train, Y_test = train_test_split(\n",
        "    X_scaled, Y, test_size=0.2, random_state=42\n",
        ")\n",
        "\n",
        "# Initialize the K-Nearest Neighbors (KNN) classifier with adjusted parameters\n",
        "model = KNeighborsClassifier(n_neighbors=10)\n",
        "\n",
        "# Train the model\n",
        "model.fit(X_train, Y_train)\n",
        "\n",
        "# Make predictions on the test set\n",
        "Y_pred = model.predict(X_test)\n",
        "\n",
        "# Calculate accuracy\n",
        "accuracy = accuracy_score(Y_test, Y_pred)\n",
        "\n",
        "print(\"Accuracy:\", accuracy)"
      ]
    },
    {
      "cell_type": "code",
      "execution_count": 6,
      "metadata": {
        "id": "hkyRPHxjRqEb"
      },
      "outputs": [],
      "source": [
        "#run model spot checkking again"
      ]
    },
    {
      "cell_type": "code",
      "execution_count": 42,
      "metadata": {},
      "outputs": [
        {
          "name": "stdout",
          "output_type": "stream",
          "text": [
            "Accuracy: 0.7337662337662337\n",
            "Cross-validation Accuracy: 0.7631270690094218\n"
          ]
        }
      ],
      "source": [
        "import pandas as pd\n",
        "from sklearn.model_selection import train_test_split, cross_val_score\n",
        "from sklearn.ensemble import AdaBoostClassifier\n",
        "from sklearn.metrics import accuracy_score\n",
        "\n",
        "# Load dataset\n",
        "filename = \"diabetes.csv\"\n",
        "dataframe = pd.read_csv(filename)\n",
        "\n",
        "# Split the dataset into features (X) and target variable (Y)\n",
        "X = dataframe.iloc[:, 0:8]\n",
        "Y = dataframe.iloc[:, 8]\n",
        "\n",
        "# Split the dataset into training and testing sets\n",
        "X_train, X_test, Y_train, Y_test = train_test_split(\n",
        "    X, Y, test_size=0.2, random_state=42\n",
        ")\n",
        "\n",
        "# Initialize the AdaBoostClassifier with default parameters\n",
        "model = AdaBoostClassifier()\n",
        "\n",
        "# Fit the model on the training data\n",
        "model.fit(X_train, Y_train)\n",
        "\n",
        "# Make predictions on the test data\n",
        "Y_pred = model.predict(X_test)\n",
        "\n",
        "# Calculate accuracy\n",
        "accuracy = accuracy_score(Y_test, Y_pred)\n",
        "print(\"Accuracy:\", accuracy)\n",
        "\n",
        "# Evaluate model using cross-validation\n",
        "cv_scores = cross_val_score(model, X, Y, cv=5, scoring=\"accuracy\")\n",
        "print(\"Cross-validation Accuracy:\", cv_scores.mean())"
      ]
    },
    {
      "cell_type": "code",
      "execution_count": 7,
      "metadata": {
        "id": "o0BXiEySRsHa"
      },
      "outputs": [],
      "source": [
        "#which model was the best?"
      ]
    },
    {
      "cell_type": "code",
      "execution_count": 43,
      "metadata": {},
      "outputs": [
        {
          "name": "stdout",
          "output_type": "stream",
          "text": [
            "Model: Logistic Regression\n",
            "Accuracy: 0.7721925133689839\n",
            "Precision: 0.7196000559468052\n",
            "Recall: 0.5747030048916841\n",
            "F1: 0.6374328442978329\n",
            "\n",
            "Model: K-Nearest Neighbors\n",
            "Accuracy: 0.723979288685171\n",
            "Precision: 0.6224949494949495\n",
            "Recall: 0.5302585604472397\n",
            "F1: 0.5704872499161476\n",
            "\n",
            "Model: AdaBoost Classifier\n",
            "Accuracy: 0.7631270690094218\n",
            "Precision: 0.6942089193753586\n",
            "Recall: 0.5934311670160727\n",
            "F1: 0.6371160348510471\n",
            "\n"
          ]
        }
      ],
      "source": [
        "import pandas as pd\n",
        "from sklearn.model_selection import cross_validate\n",
        "from sklearn.linear_model import LogisticRegression\n",
        "from sklearn.neighbors import KNeighborsClassifier\n",
        "from sklearn.ensemble import AdaBoostClassifier\n",
        "from sklearn.metrics import accuracy_score, precision_score, recall_score, f1_score\n",
        "\n",
        "# Load dataset\n",
        "filename = \"diabetes.csv\"\n",
        "dataframe = pd.read_csv(filename)\n",
        "\n",
        "# Split the dataset into features (X) and target variable (Y)\n",
        "X = dataframe.iloc[:, 0:8]\n",
        "Y = dataframe.iloc[:, 8]\n",
        "\n",
        "# Define models\n",
        "models = [\n",
        "    (\"Logistic Regression\", LogisticRegression(max_iter=1000)),\n",
        "    (\"K-Nearest Neighbors\", KNeighborsClassifier()),\n",
        "    (\"AdaBoost Classifier\", AdaBoostClassifier()),\n",
        "]\n",
        "\n",
        "# Define evaluation metrics\n",
        "scoring = {\n",
        "    \"accuracy\": \"accuracy\",\n",
        "    \"precision\": \"precision\",\n",
        "    \"recall\": \"recall\",\n",
        "    \"f1\": \"f1\",\n",
        "}\n",
        "\n",
        "# Evaluate models using cross-validation\n",
        "results = []\n",
        "for name, model in models:\n",
        "    cv_results = cross_validate(model, X, Y, cv=5, scoring=scoring)\n",
        "    avg_results = {metric: cv_results[f\"test_{metric}\"].mean() for metric in scoring}\n",
        "    results.append((name, avg_results))\n",
        "\n",
        "# Display results\n",
        "for name, result in results:\n",
        "    print(f\"Model: {name}\")\n",
        "    for metric, value in result.items():\n",
        "        print(f\"{metric.capitalize()}: {value}\")\n",
        "    print()"
      ]
    },
    {
      "cell_type": "markdown",
      "metadata": {
        "id": "r0fftEZBRxPz"
      },
      "source": [
        "Report:\n",
        "- Write your discoveries in detail and what you have learnt below.\n",
        "- Be as detailed as possible, this is very important."
      ]
    },
    {
      "cell_type": "code",
      "execution_count": null,
      "metadata": {
        "id": "HXy2VkJFRuzL"
      },
      "outputs": [],
      "source": []
    }
  ],
  "metadata": {
    "colab": {
      "provenance": []
    },
    "kernelspec": {
      "display_name": "Python 3",
      "name": "python3"
    },
    "language_info": {
      "codemirror_mode": {
        "name": "ipython",
        "version": 3
      },
      "file_extension": ".py",
      "mimetype": "text/x-python",
      "name": "python",
      "nbconvert_exporter": "python",
      "pygments_lexer": "ipython3",
      "version": "3.12.0"
    }
  },
  "nbformat": 4,
  "nbformat_minor": 0
}
